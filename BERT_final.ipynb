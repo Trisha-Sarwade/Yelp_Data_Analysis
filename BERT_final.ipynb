{
  "cells": [
    {
      "cell_type": "markdown",
      "metadata": {
        "id": "view-in-github",
        "colab_type": "text"
      },
      "source": [
        "<a href=\"https://colab.research.google.com/github/jayantc14/Yelp_Data_Analysis/blob/main/BERT_final.ipynb\" target=\"_parent\"><img src=\"https://colab.research.google.com/assets/colab-badge.svg\" alt=\"Open In Colab\"/></a>"
      ]
    },
    {
      "cell_type": "code",
      "execution_count": null,
      "metadata": {
        "id": "Mufo42kSnIz2"
      },
      "outputs": [],
      "source": [
        "!wget --quiet https://raw.githubusercontent.com/tensorflow/models/master/official/nlp/bert/tokenization.py"
      ]
    },
    {
      "cell_type": "code",
      "execution_count": null,
      "metadata": {
        "colab": {
          "base_uri": "https://localhost:8080/"
        },
        "id": "39nAlcb8ZMXw",
        "outputId": "624e9a9c-d9e7-4baf-ea3d-a121059faadd"
      },
      "outputs": [
        {
          "output_type": "stream",
          "name": "stdout",
          "text": [
            "Collecting tokenization\n",
            "  Downloading tokenization-1.0.7-py3-none-any.whl (10 kB)\n",
            "Requirement already satisfied: regex in /usr/local/lib/python3.7/dist-packages (from tokenization) (2019.12.20)\n",
            "Installing collected packages: tokenization\n",
            "Successfully installed tokenization-1.0.7\n"
          ]
        }
      ],
      "source": [
        "!pip install tokenization"
      ]
    },
    {
      "cell_type": "code",
      "execution_count": null,
      "metadata": {
        "colab": {
          "base_uri": "https://localhost:8080/"
        },
        "id": "xik4axY-nuVw",
        "outputId": "7b2bf721-e211-4e0b-bbed-9d6a9d7c7d73"
      },
      "outputs": [
        {
          "output_type": "stream",
          "name": "stdout",
          "text": [
            "Drive already mounted at /content/drive; to attempt to forcibly remount, call drive.mount(\"/content/drive\", force_remount=True).\n"
          ]
        }
      ],
      "source": [
        "from google.colab import drive\n",
        "drive.mount('/content/drive')"
      ]
    },
    {
      "cell_type": "code",
      "execution_count": null,
      "metadata": {
        "colab": {
          "base_uri": "https://localhost:8080/"
        },
        "id": "ZqYZ5wmNZUCH",
        "outputId": "b559ac3b-2f8a-4954-d4c7-1bfe4233ff12"
      },
      "outputs": [
        {
          "output_type": "stream",
          "name": "stdout",
          "text": [
            "Collecting transformers\n",
            "  Downloading transformers-4.13.0-py3-none-any.whl (3.3 MB)\n",
            "\u001b[K     |████████████████████████████████| 3.3 MB 5.4 MB/s \n",
            "\u001b[?25hRequirement already satisfied: numpy>=1.17 in /usr/local/lib/python3.7/dist-packages (from transformers) (1.19.5)\n",
            "Requirement already satisfied: tqdm>=4.27 in /usr/local/lib/python3.7/dist-packages (from transformers) (4.62.3)\n",
            "Requirement already satisfied: importlib-metadata in /usr/local/lib/python3.7/dist-packages (from transformers) (4.8.2)\n",
            "Requirement already satisfied: filelock in /usr/local/lib/python3.7/dist-packages (from transformers) (3.4.0)\n",
            "Requirement already satisfied: packaging>=20.0 in /usr/local/lib/python3.7/dist-packages (from transformers) (21.3)\n",
            "Requirement already satisfied: requests in /usr/local/lib/python3.7/dist-packages (from transformers) (2.23.0)\n",
            "Collecting tokenizers<0.11,>=0.10.1\n",
            "  Downloading tokenizers-0.10.3-cp37-cp37m-manylinux_2_5_x86_64.manylinux1_x86_64.manylinux_2_12_x86_64.manylinux2010_x86_64.whl (3.3 MB)\n",
            "\u001b[K     |████████████████████████████████| 3.3 MB 29.7 MB/s \n",
            "\u001b[?25hCollecting pyyaml>=5.1\n",
            "  Downloading PyYAML-6.0-cp37-cp37m-manylinux_2_5_x86_64.manylinux1_x86_64.manylinux_2_12_x86_64.manylinux2010_x86_64.whl (596 kB)\n",
            "\u001b[K     |████████████████████████████████| 596 kB 43.8 MB/s \n",
            "\u001b[?25hCollecting huggingface-hub<1.0,>=0.1.0\n",
            "  Downloading huggingface_hub-0.2.1-py3-none-any.whl (61 kB)\n",
            "\u001b[K     |████████████████████████████████| 61 kB 482 kB/s \n",
            "\u001b[?25hRequirement already satisfied: regex!=2019.12.17 in /usr/local/lib/python3.7/dist-packages (from transformers) (2019.12.20)\n",
            "Collecting sacremoses\n",
            "  Downloading sacremoses-0.0.46-py3-none-any.whl (895 kB)\n",
            "\u001b[K     |████████████████████████████████| 895 kB 44.8 MB/s \n",
            "\u001b[?25hRequirement already satisfied: typing-extensions>=3.7.4.3 in /usr/local/lib/python3.7/dist-packages (from huggingface-hub<1.0,>=0.1.0->transformers) (3.10.0.2)\n",
            "Requirement already satisfied: pyparsing!=3.0.5,>=2.0.2 in /usr/local/lib/python3.7/dist-packages (from packaging>=20.0->transformers) (3.0.6)\n",
            "Requirement already satisfied: zipp>=0.5 in /usr/local/lib/python3.7/dist-packages (from importlib-metadata->transformers) (3.6.0)\n",
            "Requirement already satisfied: certifi>=2017.4.17 in /usr/local/lib/python3.7/dist-packages (from requests->transformers) (2021.10.8)\n",
            "Requirement already satisfied: chardet<4,>=3.0.2 in /usr/local/lib/python3.7/dist-packages (from requests->transformers) (3.0.4)\n",
            "Requirement already satisfied: urllib3!=1.25.0,!=1.25.1,<1.26,>=1.21.1 in /usr/local/lib/python3.7/dist-packages (from requests->transformers) (1.24.3)\n",
            "Requirement already satisfied: idna<3,>=2.5 in /usr/local/lib/python3.7/dist-packages (from requests->transformers) (2.10)\n",
            "Requirement already satisfied: click in /usr/local/lib/python3.7/dist-packages (from sacremoses->transformers) (7.1.2)\n",
            "Requirement already satisfied: joblib in /usr/local/lib/python3.7/dist-packages (from sacremoses->transformers) (1.1.0)\n",
            "Requirement already satisfied: six in /usr/local/lib/python3.7/dist-packages (from sacremoses->transformers) (1.15.0)\n",
            "Installing collected packages: pyyaml, tokenizers, sacremoses, huggingface-hub, transformers\n",
            "  Attempting uninstall: pyyaml\n",
            "    Found existing installation: PyYAML 3.13\n",
            "    Uninstalling PyYAML-3.13:\n",
            "      Successfully uninstalled PyYAML-3.13\n",
            "Successfully installed huggingface-hub-0.2.1 pyyaml-6.0 sacremoses-0.0.46 tokenizers-0.10.3 transformers-4.13.0\n"
          ]
        }
      ],
      "source": [
        "!pip install transformers"
      ]
    },
    {
      "cell_type": "code",
      "execution_count": null,
      "metadata": {
        "colab": {
          "base_uri": "https://localhost:8080/"
        },
        "id": "IZ55QIiAZeP_",
        "outputId": "7c90fd48-3634-4786-8e11-dde63e43892d"
      },
      "outputs": [
        {
          "output_type": "stream",
          "name": "stdout",
          "text": [
            "Collecting sentencepiece\n",
            "  Downloading sentencepiece-0.1.96-cp37-cp37m-manylinux_2_17_x86_64.manylinux2014_x86_64.whl (1.2 MB)\n",
            "\u001b[K     |████████████████████████████████| 1.2 MB 5.4 MB/s \n",
            "\u001b[?25hInstalling collected packages: sentencepiece\n",
            "Successfully installed sentencepiece-0.1.96\n"
          ]
        }
      ],
      "source": [
        "% pip install sentencepiece"
      ]
    },
    {
      "cell_type": "code",
      "execution_count": null,
      "metadata": {
        "id": "Bb-Ues9xnfQ3"
      },
      "outputs": [],
      "source": [
        ""
      ]
    },
    {
      "cell_type": "code",
      "execution_count": null,
      "metadata": {
        "id": "tLSEg7Z9Y-aD"
      },
      "outputs": [],
      "source": [
        "import tensorflow_hub as hub\n",
        "import tokenization\n",
        "module_url = 'https://tfhub.dev/tensorflow/bert_en_uncased_L-12_H-768_A-12/2'\n",
        "bert_layer = hub.KerasLayer(module_url, trainable=True)"
      ]
    },
    {
      "cell_type": "code",
      "execution_count": null,
      "metadata": {
        "id": "ang5eDRBmtVH"
      },
      "outputs": [],
      "source": [
        "import pandas as pd"
      ]
    },
    {
      "cell_type": "code",
      "execution_count": null,
      "metadata": {
        "id": "73KK03EVZFrk"
      },
      "outputs": [],
      "source": [
        "df = pd.read_csv(\"/content/drive/MyDrive/yelp_dataset/yelp_3cities_refined2.csv\")\n"
      ]
    },
    {
      "cell_type": "code",
      "execution_count": null,
      "metadata": {
        "id": "gyvDjr_9mdwg"
      },
      "outputs": [],
      "source": [
        "cols = ['business_id', 'city', 'state', 'user_id', 'useful_x',\n",
        "       'date', 'useful_y', 'fans']"
      ]
    },
    {
      "cell_type": "code",
      "execution_count": null,
      "metadata": {
        "id": "SP4CA-cnmq7S"
      },
      "outputs": [],
      "source": [
        "df.drop(cols,axis=1,inplace=True)"
      ]
    },
    {
      "cell_type": "code",
      "execution_count": null,
      "metadata": {
        "id": "WAw5vxzXoVEY"
      },
      "outputs": [],
      "source": [
        "from sklearn.model_selection import train_test_split"
      ]
    },
    {
      "cell_type": "code",
      "execution_count": null,
      "metadata": {
        "id": "FkA3DQudoGO6"
      },
      "outputs": [],
      "source": [
        "#y = df['review_stars']\n",
        "#X = df.drop(\"DEATH_EVENT\", axis = 1)\n",
        "X = df.drop([\"review_stars\"], axis = 1)\n",
        "train, test = train_test_split(df, test_size=0.2, random_state=25)"
      ]
    },
    {
      "cell_type": "code",
      "execution_count": null,
      "metadata": {
        "id": "2oBw_k7NoTfO"
      },
      "outputs": [],
      "source": [
        "vocab_file = bert_layer.resolved_object.vocab_file.asset_path.numpy()\n",
        "do_lower_case = bert_layer.resolved_object.do_lower_case.numpy()\n",
        "tokenizer = tokenization.FullTokenizer(vocab_file, do_lower_case)\n",
        "\n",
        "def bert_encode(texts, tokenizer, max_len=512):\n",
        "    all_tokens = []\n",
        "    all_masks = []\n",
        "    all_segments = []\n",
        "    \n",
        "    for text in texts:\n",
        "        text = tokenizer.tokenize(text)\n",
        "            \n",
        "        text = text[:max_len-2]\n",
        "        input_sequence = [\"[CLS]\"] + text + [\"[SEP]\"]\n",
        "        pad_len = max_len - len(input_sequence)\n",
        "        \n",
        "        tokens = tokenizer.convert_tokens_to_ids(input_sequence) + [0] * pad_len\n",
        "        pad_masks = [1] * len(input_sequence) + [0] * pad_len\n",
        "        segment_ids = [0] * max_len\n",
        "        \n",
        "        all_tokens.append(tokens)\n",
        "        all_masks.append(pad_masks)\n",
        "        all_segments.append(segment_ids)\n",
        "    \n",
        "    return np.array(all_tokens), np.array(all_masks), np.array(all_segments)"
      ]
    },
    {
      "cell_type": "code",
      "execution_count": null,
      "metadata": {
        "id": "VoMESNZ6pGai"
      },
      "outputs": [],
      "source": [
        "def build_model(bert_layer, max_len=512):\n",
        "    input_word_ids = tf.keras.Input(shape=(max_len,), dtype=tf.int32, name=\"input_word_ids\")\n",
        "    input_mask = tf.keras.Input(shape=(max_len,), dtype=tf.int32, name=\"input_mask\")\n",
        "    segment_ids = tf.keras.Input(shape=(max_len,), dtype=tf.int32, name=\"segment_ids\")\n",
        "\n",
        "    pooled_output, sequence_output = bert_layer([input_word_ids, input_mask, segment_ids])\n",
        "    clf_output = sequence_output[:, 0, :]\n",
        "    net = tf.keras.layers.Dense(64, activation='relu')(clf_output)\n",
        "    net = tf.keras.layers.Dropout(0.2)(net)\n",
        "    net = tf.keras.layers.Dense(32, activation='relu')(net)\n",
        "    net = tf.keras.layers.Dropout(0.2)(net)\n",
        "    out = tf.keras.layers.Dense(5, activation='softmax')(net)\n",
        "    \n",
        "    model = tf.keras.models.Model(inputs=[input_word_ids, input_mask, segment_ids], outputs=out)\n",
        "    model.compile(tf.keras.optimizers.Adam(lr=1e-5), loss='categorical_crossentropy', metrics=['accuracy'])\n",
        "    \n",
        "    return model"
      ]
    },
    {
      "cell_type": "code",
      "execution_count": null,
      "metadata": {
        "id": "5oJNk-sKqcjf"
      },
      "outputs": [],
      "source": [
        "import numpy as np"
      ]
    },
    {
      "cell_type": "code",
      "execution_count": null,
      "metadata": {
        "id": "xzlYaPYHuOCQ"
      },
      "outputs": [],
      "source": [
        "from tensorflow.keras.preprocessing.text import Tokenizer\n",
        "from tensorflow.keras.preprocessing.sequence import pad_sequences\n",
        "from tensorflow.keras.models import Sequential\n",
        "from tensorflow.keras.layers import Dense, Embedding, LSTM, Conv1D, MaxPool1D\n",
        "from sklearn.model_selection import train_test_split\n",
        "from sklearn.metrics import classification_report, accuracy_score"
      ]
    },
    {
      "cell_type": "code",
      "execution_count": null,
      "metadata": {
        "id": "T9U37Yy0wVcY"
      },
      "outputs": [],
      "source": [
        "import keras"
      ]
    },
    {
      "cell_type": "code",
      "execution_count": null,
      "metadata": {
        "id": "DNxZWSSewp3v"
      },
      "outputs": [],
      "source": [
        "import tensorflow as tf"
      ]
    },
    {
      "cell_type": "code",
      "execution_count": null,
      "metadata": {
        "id": "4f8HLcLSyN2g"
      },
      "outputs": [],
      "source": [
        "from tensorflow.keras.utils import to_categorical"
      ]
    },
    {
      "cell_type": "code",
      "execution_count": null,
      "metadata": {
        "colab": {
          "base_uri": "https://localhost:8080/"
        },
        "id": "P4GFZkSdEV_h",
        "outputId": "71aefc26-8222-420a-fefb-e0f495869bb4"
      },
      "outputs": [
        {
          "output_type": "stream",
          "name": "stdout",
          "text": [
            "Collecting keras.utils\n",
            "  Downloading keras-utils-1.0.13.tar.gz (2.4 kB)\n",
            "Requirement already satisfied: Keras>=2.1.5 in /usr/local/lib/python3.7/dist-packages (from keras.utils) (2.7.0)\n",
            "Building wheels for collected packages: keras.utils\n",
            "  Building wheel for keras.utils (setup.py) ... \u001b[?25l\u001b[?25hdone\n",
            "  Created wheel for keras.utils: filename=keras_utils-1.0.13-py3-none-any.whl size=2656 sha256=c7ebd7752a28c1a21717c7f3e90ad72335fa9b3c3624081a7a50790776df18d6\n",
            "  Stored in directory: /root/.cache/pip/wheels/d0/dd/3b/493952a5240d486a83805d65360dedadbadeae71d25e2c877f\n",
            "Successfully built keras.utils\n",
            "Installing collected packages: keras.utils\n",
            "Successfully installed keras.utils-1.0.13\n"
          ]
        }
      ],
      "source": [
        "!pip install keras.utils"
      ]
    },
    {
      "cell_type": "code",
      "execution_count": null,
      "metadata": {
        "id": "hRMqjDFMz_iq"
      },
      "outputs": [],
      "source": [
        "#from keras.utils import to_categorical"
      ]
    },
    {
      "cell_type": "code",
      "execution_count": null,
      "metadata": {
        "colab": {
          "base_uri": "https://localhost:8080/",
          "height": 423
        },
        "id": "ZU689BU03hGr",
        "outputId": "ed396ae8-1b1e-4573-d3b9-cbcef32bfe24"
      },
      "outputs": [
        {
          "output_type": "execute_result",
          "data": {
            "text/html": [
              "<div>\n",
              "<style scoped>\n",
              "    .dataframe tbody tr th:only-of-type {\n",
              "        vertical-align: middle;\n",
              "    }\n",
              "\n",
              "    .dataframe tbody tr th {\n",
              "        vertical-align: top;\n",
              "    }\n",
              "\n",
              "    .dataframe thead th {\n",
              "        text-align: right;\n",
              "    }\n",
              "</style>\n",
              "<table border=\"1\" class=\"dataframe\">\n",
              "  <thead>\n",
              "    <tr style=\"text-align: right;\">\n",
              "      <th></th>\n",
              "      <th>review_stars</th>\n",
              "      <th>text</th>\n",
              "    </tr>\n",
              "  </thead>\n",
              "  <tbody>\n",
              "    <tr>\n",
              "      <th>63082</th>\n",
              "      <td>5</td>\n",
              "      <td>This is one of my favorite places in Boston. I...</td>\n",
              "    </tr>\n",
              "    <tr>\n",
              "      <th>139977</th>\n",
              "      <td>5</td>\n",
              "      <td>This place is so underrated.  The pizzas are d...</td>\n",
              "    </tr>\n",
              "    <tr>\n",
              "      <th>67546</th>\n",
              "      <td>5</td>\n",
              "      <td>Highly recommend visiting this lovely brewery!...</td>\n",
              "    </tr>\n",
              "    <tr>\n",
              "      <th>146484</th>\n",
              "      <td>1</td>\n",
              "      <td>Extremely underwhelmed with this experience. W...</td>\n",
              "    </tr>\n",
              "    <tr>\n",
              "      <th>1769</th>\n",
              "      <td>4</td>\n",
              "      <td>Gayle and I stayed here the night before board...</td>\n",
              "    </tr>\n",
              "    <tr>\n",
              "      <th>...</th>\n",
              "      <td>...</td>\n",
              "      <td>...</td>\n",
              "    </tr>\n",
              "    <tr>\n",
              "      <th>130365</th>\n",
              "      <td>5</td>\n",
              "      <td>This place is incredibly busy but after eating...</td>\n",
              "    </tr>\n",
              "    <tr>\n",
              "      <th>92303</th>\n",
              "      <td>1</td>\n",
              "      <td>Third time and I give up. I have visited this ...</td>\n",
              "    </tr>\n",
              "    <tr>\n",
              "      <th>6618</th>\n",
              "      <td>5</td>\n",
              "      <td>La Merced is really great. The chile relleno b...</td>\n",
              "    </tr>\n",
              "    <tr>\n",
              "      <th>90430</th>\n",
              "      <td>2</td>\n",
              "      <td>Bar service was great.. Bouncer made unnecessa...</td>\n",
              "    </tr>\n",
              "    <tr>\n",
              "      <th>29828</th>\n",
              "      <td>4</td>\n",
              "      <td>Ok, came in for happy hour and began with the ...</td>\n",
              "    </tr>\n",
              "  </tbody>\n",
              "</table>\n",
              "<p>158359 rows × 2 columns</p>\n",
              "</div>"
            ],
            "text/plain": [
              "        review_stars                                               text\n",
              "63082              5  This is one of my favorite places in Boston. I...\n",
              "139977             5  This place is so underrated.  The pizzas are d...\n",
              "67546              5  Highly recommend visiting this lovely brewery!...\n",
              "146484             1  Extremely underwhelmed with this experience. W...\n",
              "1769               4  Gayle and I stayed here the night before board...\n",
              "...              ...                                                ...\n",
              "130365             5  This place is incredibly busy but after eating...\n",
              "92303              1  Third time and I give up. I have visited this ...\n",
              "6618               5  La Merced is really great. The chile relleno b...\n",
              "90430              2  Bar service was great.. Bouncer made unnecessa...\n",
              "29828              4  Ok, came in for happy hour and began with the ...\n",
              "\n",
              "[158359 rows x 2 columns]"
            ]
          },
          "metadata": {},
          "execution_count": 22
        }
      ],
      "source": [
        "train"
      ]
    },
    {
      "cell_type": "code",
      "execution_count": null,
      "metadata": {
        "id": "0OUp2OW4pKAH"
      },
      "outputs": [],
      "source": [
        "max_len = 150\n",
        "train_input = bert_encode(train.text.values, tokenizer, max_len=max_len)\n",
        "test_input = bert_encode(test.text.values, tokenizer, max_len=max_len)\n"
      ]
    },
    {
      "cell_type": "code",
      "execution_count": null,
      "metadata": {
        "id": "H5Lx1xOKkneL"
      },
      "outputs": [],
      "source": [
        "train.reset_index(drop=True,inplace = True)"
      ]
    },
    {
      "cell_type": "code",
      "execution_count": null,
      "metadata": {
        "id": "_4rDYAC9KTlY"
      },
      "outputs": [],
      "source": [
        "for i in range(len(train)):\n",
        "    if train.loc[i,'review_stars'] == 1:\n",
        "        train.loc[i,'review_stars'] = 0\n",
        "    if train.loc[i,'review_stars'] == 2:\n",
        "        train.loc[i,'review_stars'] = 1\n",
        "    if train.loc[i,'review_stars'] == 3:\n",
        "        train.loc[i,'review_stars'] = 2\n",
        "    if train.loc[i,'review_stars'] == 4:\n",
        "        train.loc[i,'review_stars'] = 3\n",
        "    if train.loc[i,'review_stars'] == 5:\n",
        "        train.loc[i,'review_stars'] = 4"
      ]
    },
    {
      "cell_type": "code",
      "execution_count": null,
      "metadata": {
        "colab": {
          "base_uri": "https://localhost:8080/",
          "height": 423
        },
        "id": "HgN2H6hGlzjS",
        "outputId": "00ea289e-96b8-4809-d5a0-55c52f37a713"
      },
      "outputs": [
        {
          "output_type": "execute_result",
          "data": {
            "text/html": [
              "<div>\n",
              "<style scoped>\n",
              "    .dataframe tbody tr th:only-of-type {\n",
              "        vertical-align: middle;\n",
              "    }\n",
              "\n",
              "    .dataframe tbody tr th {\n",
              "        vertical-align: top;\n",
              "    }\n",
              "\n",
              "    .dataframe thead th {\n",
              "        text-align: right;\n",
              "    }\n",
              "</style>\n",
              "<table border=\"1\" class=\"dataframe\">\n",
              "  <thead>\n",
              "    <tr style=\"text-align: right;\">\n",
              "      <th></th>\n",
              "      <th>review_stars</th>\n",
              "      <th>text</th>\n",
              "    </tr>\n",
              "  </thead>\n",
              "  <tbody>\n",
              "    <tr>\n",
              "      <th>0</th>\n",
              "      <td>4</td>\n",
              "      <td>This is one of my favorite places in Boston. I...</td>\n",
              "    </tr>\n",
              "    <tr>\n",
              "      <th>1</th>\n",
              "      <td>4</td>\n",
              "      <td>This place is so underrated.  The pizzas are d...</td>\n",
              "    </tr>\n",
              "    <tr>\n",
              "      <th>2</th>\n",
              "      <td>4</td>\n",
              "      <td>Highly recommend visiting this lovely brewery!...</td>\n",
              "    </tr>\n",
              "    <tr>\n",
              "      <th>3</th>\n",
              "      <td>0</td>\n",
              "      <td>Extremely underwhelmed with this experience. W...</td>\n",
              "    </tr>\n",
              "    <tr>\n",
              "      <th>4</th>\n",
              "      <td>3</td>\n",
              "      <td>Gayle and I stayed here the night before board...</td>\n",
              "    </tr>\n",
              "    <tr>\n",
              "      <th>...</th>\n",
              "      <td>...</td>\n",
              "      <td>...</td>\n",
              "    </tr>\n",
              "    <tr>\n",
              "      <th>158354</th>\n",
              "      <td>4</td>\n",
              "      <td>This place is incredibly busy but after eating...</td>\n",
              "    </tr>\n",
              "    <tr>\n",
              "      <th>158355</th>\n",
              "      <td>0</td>\n",
              "      <td>Third time and I give up. I have visited this ...</td>\n",
              "    </tr>\n",
              "    <tr>\n",
              "      <th>158356</th>\n",
              "      <td>4</td>\n",
              "      <td>La Merced is really great. The chile relleno b...</td>\n",
              "    </tr>\n",
              "    <tr>\n",
              "      <th>158357</th>\n",
              "      <td>1</td>\n",
              "      <td>Bar service was great.. Bouncer made unnecessa...</td>\n",
              "    </tr>\n",
              "    <tr>\n",
              "      <th>158358</th>\n",
              "      <td>3</td>\n",
              "      <td>Ok, came in for happy hour and began with the ...</td>\n",
              "    </tr>\n",
              "  </tbody>\n",
              "</table>\n",
              "<p>158359 rows × 2 columns</p>\n",
              "</div>"
            ],
            "text/plain": [
              "        review_stars                                               text\n",
              "0                  4  This is one of my favorite places in Boston. I...\n",
              "1                  4  This place is so underrated.  The pizzas are d...\n",
              "2                  4  Highly recommend visiting this lovely brewery!...\n",
              "3                  0  Extremely underwhelmed with this experience. W...\n",
              "4                  3  Gayle and I stayed here the night before board...\n",
              "...              ...                                                ...\n",
              "158354             4  This place is incredibly busy but after eating...\n",
              "158355             0  Third time and I give up. I have visited this ...\n",
              "158356             4  La Merced is really great. The chile relleno b...\n",
              "158357             1  Bar service was great.. Bouncer made unnecessa...\n",
              "158358             3  Ok, came in for happy hour and began with the ...\n",
              "\n",
              "[158359 rows x 2 columns]"
            ]
          },
          "metadata": {},
          "execution_count": 26
        }
      ],
      "source": [
        "train"
      ]
    },
    {
      "cell_type": "code",
      "execution_count": null,
      "metadata": {
        "id": "OL7uTzq8EJJ6"
      },
      "outputs": [],
      "source": [
        "train_labels = tf.keras.utils.to_categorical(train.review_stars.values, num_classes=None)"
      ]
    },
    {
      "cell_type": "code",
      "execution_count": null,
      "metadata": {
        "colab": {
          "base_uri": "https://localhost:8080/"
        },
        "id": "Hza3eF0HKNOz",
        "outputId": "52e5b050-550d-4c13-960b-6876dcf0e220"
      },
      "outputs": [
        {
          "output_type": "execute_result",
          "data": {
            "text/plain": [
              "array([[0., 0., 0., 0., 1.],\n",
              "       [0., 0., 0., 0., 1.],\n",
              "       [0., 0., 0., 0., 1.],\n",
              "       ...,\n",
              "       [0., 0., 0., 0., 1.],\n",
              "       [0., 1., 0., 0., 0.],\n",
              "       [0., 0., 0., 1., 0.]], dtype=float32)"
            ]
          },
          "metadata": {},
          "execution_count": 28
        }
      ],
      "source": [
        "train_labels"
      ]
    },
    {
      "cell_type": "code",
      "execution_count": null,
      "metadata": {
        "colab": {
          "base_uri": "https://localhost:8080/"
        },
        "id": "BEm2n-DRpSn5",
        "outputId": "90ecce28-0363-48d8-ab76-d439aef1d7c2"
      },
      "outputs": [
        {
          "output_type": "stream",
          "name": "stdout",
          "text": [
            "Model: \"model\"\n",
            "__________________________________________________________________________________________________\n",
            " Layer (type)                   Output Shape         Param #     Connected to                     \n",
            "==================================================================================================\n",
            " input_word_ids (InputLayer)    [(None, 150)]        0           []                               \n",
            "                                                                                                  \n",
            " input_mask (InputLayer)        [(None, 150)]        0           []                               \n",
            "                                                                                                  \n",
            " segment_ids (InputLayer)       [(None, 150)]        0           []                               \n",
            "                                                                                                  \n",
            " keras_layer (KerasLayer)       [(None, 768),        109482241   ['input_word_ids[0][0]',         \n",
            "                                 (None, 150, 768)]                'input_mask[0][0]',             \n",
            "                                                                  'segment_ids[0][0]']            \n",
            "                                                                                                  \n",
            " tf.__operators__.getitem (Slic  (None, 768)         0           ['keras_layer[0][1]']            \n",
            " ingOpLambda)                                                                                     \n",
            "                                                                                                  \n",
            " dense (Dense)                  (None, 64)           49216       ['tf.__operators__.getitem[0][0]'\n",
            "                                                                 ]                                \n",
            "                                                                                                  \n",
            " dropout (Dropout)              (None, 64)           0           ['dense[0][0]']                  \n",
            "                                                                                                  \n",
            " dense_1 (Dense)                (None, 32)           2080        ['dropout[0][0]']                \n",
            "                                                                                                  \n",
            " dropout_1 (Dropout)            (None, 32)           0           ['dense_1[0][0]']                \n",
            "                                                                                                  \n",
            " dense_2 (Dense)                (None, 5)            165         ['dropout_1[0][0]']              \n",
            "                                                                                                  \n",
            "==================================================================================================\n",
            "Total params: 109,533,702\n",
            "Trainable params: 109,533,701\n",
            "Non-trainable params: 1\n",
            "__________________________________________________________________________________________________\n"
          ]
        },
        {
          "output_type": "stream",
          "name": "stderr",
          "text": [
            "/usr/local/lib/python3.7/dist-packages/keras/optimizer_v2/adam.py:105: UserWarning: The `lr` argument is deprecated, use `learning_rate` instead.\n",
            "  super(Adam, self).__init__(name, **kwargs)\n"
          ]
        }
      ],
      "source": [
        "model = build_model(bert_layer, max_len=max_len)\n",
        "model.summary()"
      ]
    },
    {
      "cell_type": "code",
      "execution_count": null,
      "metadata": {
        "id": "kt7SsJcWp8qj",
        "colab": {
          "base_uri": "https://localhost:8080/"
        },
        "outputId": "52bc2f42-e1a0-4e90-8b8d-43840f53e41c"
      },
      "outputs": [
        {
          "output_type": "stream",
          "name": "stdout",
          "text": [
            "3959/3959 [==============================] - ETA: 0s - loss: 0.7507 - accuracy: 0.6996\n",
            "Epoch 00001: val_accuracy improved from -inf to 0.74700, saving model to model.h5\n",
            "3959/3959 [==============================] - 8206s 2s/step - loss: 0.7507 - accuracy: 0.6996 - val_loss: 0.6172 - val_accuracy: 0.7470\n"
          ]
        }
      ],
      "source": [
        "checkpoint = tf.keras.callbacks.ModelCheckpoint('model.h5', monitor='val_accuracy', save_best_only=True, verbose=1)\n",
        "earlystopping = tf.keras.callbacks.EarlyStopping(monitor='val_accuracy', patience=5, verbose=1)\n",
        "\n",
        "train_history = model.fit(\n",
        "    train_input, train_labels, \n",
        "    validation_split=0.2,\n",
        "    epochs=1,\n",
        "    callbacks=[checkpoint, earlystopping],\n",
        "    batch_size=32,\n",
        "    verbose=1)"
      ]
    },
    {
      "cell_type": "code",
      "execution_count": null,
      "metadata": {
        "id": "NP-bRdOep-S8"
      },
      "outputs": [],
      "source": [
        "model.load_weights('model.h5')\n",
        "y_pred = model.predict(test_input)"
      ]
    },
    {
      "cell_type": "code",
      "source": [
        "y_pred"
      ],
      "metadata": {
        "colab": {
          "base_uri": "https://localhost:8080/"
        },
        "id": "DkAGk_OryPcp",
        "outputId": "0ae81173-8063-4c1c-af94-5c37f4869c71"
      },
      "execution_count": null,
      "outputs": [
        {
          "output_type": "execute_result",
          "data": {
            "text/plain": [
              "array([[5.8790433e-01, 3.1491438e-01, 5.3351179e-02, 2.0844370e-02,\n",
              "        2.2985743e-02],\n",
              "       [2.4690153e-03, 1.5460904e-03, 4.4131973e-03, 1.8865427e-01,\n",
              "        8.0291742e-01],\n",
              "       [8.7869307e-04, 3.9983299e-04, 1.4273619e-03, 6.4487122e-02,\n",
              "        9.3280697e-01],\n",
              "       ...,\n",
              "       [1.9002199e-04, 6.6403336e-05, 1.8864882e-04, 9.0245418e-03,\n",
              "        9.9053043e-01],\n",
              "       [7.6646799e-01, 2.1132703e-01, 1.1656546e-02, 5.9031276e-03,\n",
              "        4.6453644e-03],\n",
              "       [9.7816497e-01, 1.7594555e-02, 9.1842387e-04, 1.9372458e-03,\n",
              "        1.3847969e-03]], dtype=float32)"
            ]
          },
          "metadata": {},
          "execution_count": 34
        }
      ]
    },
    {
      "cell_type": "code",
      "source": [
        "test"
      ],
      "metadata": {
        "colab": {
          "base_uri": "https://localhost:8080/",
          "height": 423
        },
        "id": "pafrSJ1V2QDw",
        "outputId": "9842b99b-2a17-4c4e-b954-c9e4494e0ba7"
      },
      "execution_count": null,
      "outputs": [
        {
          "output_type": "execute_result",
          "data": {
            "text/html": [
              "<div>\n",
              "<style scoped>\n",
              "    .dataframe tbody tr th:only-of-type {\n",
              "        vertical-align: middle;\n",
              "    }\n",
              "\n",
              "    .dataframe tbody tr th {\n",
              "        vertical-align: top;\n",
              "    }\n",
              "\n",
              "    .dataframe thead th {\n",
              "        text-align: right;\n",
              "    }\n",
              "</style>\n",
              "<table border=\"1\" class=\"dataframe\">\n",
              "  <thead>\n",
              "    <tr style=\"text-align: right;\">\n",
              "      <th></th>\n",
              "      <th>review_stars</th>\n",
              "      <th>text</th>\n",
              "    </tr>\n",
              "  </thead>\n",
              "  <tbody>\n",
              "    <tr>\n",
              "      <th>23146</th>\n",
              "      <td>3</td>\n",
              "      <td>Well this was one of our favorite seafood rest...</td>\n",
              "    </tr>\n",
              "    <tr>\n",
              "      <th>27022</th>\n",
              "      <td>4</td>\n",
              "      <td>This Laughing Planet location is definitely my...</td>\n",
              "    </tr>\n",
              "    <tr>\n",
              "      <th>163469</th>\n",
              "      <td>5</td>\n",
              "      <td>Soooo good. I've been twice in one week, defin...</td>\n",
              "    </tr>\n",
              "    <tr>\n",
              "      <th>11507</th>\n",
              "      <td>4</td>\n",
              "      <td>We came here because the Pho French Dip looked...</td>\n",
              "    </tr>\n",
              "    <tr>\n",
              "      <th>67940</th>\n",
              "      <td>5</td>\n",
              "      <td>What an incredible meal. Honestly the best I'v...</td>\n",
              "    </tr>\n",
              "    <tr>\n",
              "      <th>...</th>\n",
              "      <td>...</td>\n",
              "      <td>...</td>\n",
              "    </tr>\n",
              "    <tr>\n",
              "      <th>38537</th>\n",
              "      <td>1</td>\n",
              "      <td>Mystery meat! Awful experience here. Meat in t...</td>\n",
              "    </tr>\n",
              "    <tr>\n",
              "      <th>6624</th>\n",
              "      <td>3</td>\n",
              "      <td>My partner and I went here for a small celebra...</td>\n",
              "    </tr>\n",
              "    <tr>\n",
              "      <th>144662</th>\n",
              "      <td>5</td>\n",
              "      <td>I love this place!  Great food and beautiful v...</td>\n",
              "    </tr>\n",
              "    <tr>\n",
              "      <th>55348</th>\n",
              "      <td>1</td>\n",
              "      <td>Went yesterday... gross. We couldn't eat our m...</td>\n",
              "    </tr>\n",
              "    <tr>\n",
              "      <th>192221</th>\n",
              "      <td>1</td>\n",
              "      <td>Racist bartender. He didn't admit that we exis...</td>\n",
              "    </tr>\n",
              "  </tbody>\n",
              "</table>\n",
              "<p>39590 rows × 2 columns</p>\n",
              "</div>"
            ],
            "text/plain": [
              "        review_stars                                               text\n",
              "23146              3  Well this was one of our favorite seafood rest...\n",
              "27022              4  This Laughing Planet location is definitely my...\n",
              "163469             5  Soooo good. I've been twice in one week, defin...\n",
              "11507              4  We came here because the Pho French Dip looked...\n",
              "67940              5  What an incredible meal. Honestly the best I'v...\n",
              "...              ...                                                ...\n",
              "38537              1  Mystery meat! Awful experience here. Meat in t...\n",
              "6624               3  My partner and I went here for a small celebra...\n",
              "144662             5  I love this place!  Great food and beautiful v...\n",
              "55348              1  Went yesterday... gross. We couldn't eat our m...\n",
              "192221             1  Racist bartender. He didn't admit that we exis...\n",
              "\n",
              "[39590 rows x 2 columns]"
            ]
          },
          "metadata": {},
          "execution_count": 37
        }
      ]
    },
    {
      "cell_type": "code",
      "source": [
        ""
      ],
      "metadata": {
        "id": "wyA2urFC2jMZ"
      },
      "execution_count": null,
      "outputs": []
    },
    {
      "cell_type": "code",
      "source": [
        "y_test = y_test.to_numpy()"
      ],
      "metadata": {
        "id": "TcGQ6oA92tN1"
      },
      "execution_count": null,
      "outputs": []
    },
    {
      "cell_type": "code",
      "source": [
        "y_test"
      ],
      "metadata": {
        "colab": {
          "base_uri": "https://localhost:8080/"
        },
        "id": "9KkXf4di206B",
        "outputId": "93f12ebc-7b2e-43cf-ab4d-26618150211a"
      },
      "execution_count": null,
      "outputs": [
        {
          "output_type": "execute_result",
          "data": {
            "text/plain": [
              "array([3, 4, 5, ..., 5, 1, 1])"
            ]
          },
          "metadata": {},
          "execution_count": 42
        }
      ]
    },
    {
      "cell_type": "code",
      "source": [
        "y_hat = y_pred.argmax(axis = 1)[:,None]"
      ],
      "metadata": {
        "id": "hkniZGrS5CIM"
      },
      "execution_count": null,
      "outputs": []
    },
    {
      "cell_type": "code",
      "source": [
        "y_hat"
      ],
      "metadata": {
        "colab": {
          "base_uri": "https://localhost:8080/"
        },
        "id": "7xsOOIxJ5LN8",
        "outputId": "cf84f3c2-4881-4ac9-f03d-93b959348b97"
      },
      "execution_count": null,
      "outputs": [
        {
          "output_type": "execute_result",
          "data": {
            "text/plain": [
              "array([[0],\n",
              "       [4],\n",
              "       [4],\n",
              "       ...,\n",
              "       [4],\n",
              "       [0],\n",
              "       [0]])"
            ]
          },
          "metadata": {},
          "execution_count": 47
        }
      ]
    },
    {
      "cell_type": "code",
      "source": [
        "y_hat2 = y_hat.flatten()"
      ],
      "metadata": {
        "id": "7H0hgDjB78D5"
      },
      "execution_count": null,
      "outputs": []
    },
    {
      "cell_type": "code",
      "source": [
        "y_hat2"
      ],
      "metadata": {
        "colab": {
          "base_uri": "https://localhost:8080/"
        },
        "id": "EyKXlxY-8JDq",
        "outputId": "5c4b5f62-1719-4139-cfa4-bd4046d2deec"
      },
      "execution_count": null,
      "outputs": [
        {
          "output_type": "execute_result",
          "data": {
            "text/plain": [
              "array([0, 4, 4, ..., 4, 0, 0])"
            ]
          },
          "metadata": {},
          "execution_count": 55
        }
      ]
    },
    {
      "cell_type": "code",
      "source": [
        "test.reset_index(drop=True,inplace = True)"
      ],
      "metadata": {
        "id": "K2p0yt3x6EHb"
      },
      "execution_count": null,
      "outputs": []
    },
    {
      "cell_type": "code",
      "source": [
        "for i in range(len(test)):\n",
        "    if test.loc[i,'review_stars'] == 1:\n",
        "        test.loc[i,'review_stars'] = 0\n",
        "    if test.loc[i,'review_stars'] == 2:\n",
        "        test.loc[i,'review_stars'] = 1\n",
        "    if test.loc[i,'review_stars'] == 3:\n",
        "        test.loc[i,'review_stars'] = 2\n",
        "    if test.loc[i,'review_stars'] == 4:\n",
        "        test.loc[i,'review_stars'] = 3\n",
        "    if test.loc[i,'review_stars'] == 5:\n",
        "        test.loc[i,'review_stars'] = 4"
      ],
      "metadata": {
        "id": "ovkBeMDQ5xgw"
      },
      "execution_count": null,
      "outputs": []
    },
    {
      "cell_type": "code",
      "source": [
        "y_test = test['review_stars']"
      ],
      "metadata": {
        "id": "f1_A5LdS6u5N"
      },
      "execution_count": null,
      "outputs": []
    },
    {
      "cell_type": "code",
      "source": [
        "y_test = y_test.to_numpy()"
      ],
      "metadata": {
        "id": "ULJW-ErQ61cj"
      },
      "execution_count": null,
      "outputs": []
    },
    {
      "cell_type": "code",
      "source": [
        "y_test"
      ],
      "metadata": {
        "colab": {
          "base_uri": "https://localhost:8080/"
        },
        "id": "5AG_PyUL7GG3",
        "outputId": "bd3e0585-45c9-41b4-b93f-b2b491fc1ef7"
      },
      "execution_count": null,
      "outputs": [
        {
          "output_type": "execute_result",
          "data": {
            "text/plain": [
              "array([2, 3, 4, ..., 4, 0, 0])"
            ]
          },
          "metadata": {},
          "execution_count": 53
        }
      ]
    },
    {
      "cell_type": "code",
      "execution_count": null,
      "metadata": {
        "id": "vUEmYqEQqEYc",
        "colab": {
          "base_uri": "https://localhost:8080/"
        },
        "outputId": "467d3a83-dabf-4578-de6f-d23db5c0b8dd"
      },
      "outputs": [
        {
          "output_type": "execute_result",
          "data": {
            "text/plain": [
              "0.7463753473099267"
            ]
          },
          "metadata": {},
          "execution_count": 56
        }
      ],
      "source": [
        "accuracy_score(y_test, y_hat2)"
      ]
    },
    {
      "cell_type": "code",
      "source": [
        "from sklearn import metrics"
      ],
      "metadata": {
        "id": "1f83gNfx9Gqb"
      },
      "execution_count": null,
      "outputs": []
    },
    {
      "cell_type": "code",
      "source": [
        "print(metrics.classification_report(y_test, y_hat2))"
      ],
      "metadata": {
        "colab": {
          "base_uri": "https://localhost:8080/"
        },
        "id": "zf-S0s0A7EN-",
        "outputId": "e5070483-8978-41dc-c0fc-078f58e6d315"
      },
      "execution_count": null,
      "outputs": [
        {
          "output_type": "stream",
          "name": "stdout",
          "text": [
            "              precision    recall  f1-score   support\n",
            "\n",
            "           0       0.70      0.87      0.78      4473\n",
            "           1       0.45      0.42      0.43      2782\n",
            "           2       0.56      0.45      0.50      3715\n",
            "           3       0.60      0.46      0.52      7422\n",
            "           4       0.85      0.92      0.88     21198\n",
            "\n",
            "    accuracy                           0.75     39590\n",
            "   macro avg       0.63      0.62      0.62     39590\n",
            "weighted avg       0.73      0.75      0.73     39590\n",
            "\n"
          ]
        }
      ]
    },
    {
      "cell_type": "code",
      "source": [
        ""
      ],
      "metadata": {
        "id": "bU1K-Cur2ye-"
      },
      "execution_count": null,
      "outputs": []
    }
  ],
  "metadata": {
    "colab": {
      "collapsed_sections": [],
      "name": "BERT_final.ipynb",
      "provenance": [],
      "mount_file_id": "14ZVa7h6vs0xiVM_5nPZP0VobEGAiFqsc",
      "authorship_tag": "ABX9TyO/GCHyPfDopj5BWF/fFh/G",
      "include_colab_link": true
    },
    "kernelspec": {
      "display_name": "Python 3",
      "name": "python3"
    },
    "language_info": {
      "name": "python"
    },
    "accelerator": "GPU"
  },
  "nbformat": 4,
  "nbformat_minor": 0
}