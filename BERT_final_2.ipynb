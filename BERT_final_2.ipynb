{
  "cells": [
    {
      "cell_type": "markdown",
      "metadata": {
        "id": "view-in-github",
        "colab_type": "text"
      },
      "source": [
        "<a href=\"https://colab.research.google.com/github/jayantc14/Yelp_Data_Analysis/blob/main/BERT_final_2.ipynb\" target=\"_parent\"><img src=\"https://colab.research.google.com/assets/colab-badge.svg\" alt=\"Open In Colab\"/></a>"
      ]
    },
    {
      "cell_type": "code",
      "execution_count": 1,
      "metadata": {
        "id": "Mufo42kSnIz2"
      },
      "outputs": [],
      "source": [
        "!wget --quiet https://raw.githubusercontent.com/tensorflow/models/master/official/nlp/bert/tokenization.py"
      ]
    },
    {
      "cell_type": "code",
      "execution_count": 2,
      "metadata": {
        "colab": {
          "base_uri": "https://localhost:8080/"
        },
        "id": "39nAlcb8ZMXw",
        "outputId": "94ad35b5-11d4-441b-ce2e-109c7eb52e13"
      },
      "outputs": [
        {
          "output_type": "stream",
          "name": "stdout",
          "text": [
            "Collecting tokenization\n",
            "  Downloading tokenization-1.0.7-py3-none-any.whl (10 kB)\n",
            "Requirement already satisfied: regex in /usr/local/lib/python3.7/dist-packages (from tokenization) (2019.12.20)\n",
            "Installing collected packages: tokenization\n",
            "Successfully installed tokenization-1.0.7\n"
          ]
        }
      ],
      "source": [
        "!pip install tokenization"
      ]
    },
    {
      "cell_type": "code",
      "execution_count": 3,
      "metadata": {
        "colab": {
          "base_uri": "https://localhost:8080/"
        },
        "id": "xik4axY-nuVw",
        "outputId": "708c3042-3edf-4b65-9187-3e06994e2aae"
      },
      "outputs": [
        {
          "output_type": "stream",
          "name": "stdout",
          "text": [
            "Drive already mounted at /content/drive; to attempt to forcibly remount, call drive.mount(\"/content/drive\", force_remount=True).\n"
          ]
        }
      ],
      "source": [
        "from google.colab import drive\n",
        "drive.mount('/content/drive')"
      ]
    },
    {
      "cell_type": "code",
      "execution_count": 4,
      "metadata": {
        "colab": {
          "base_uri": "https://localhost:8080/"
        },
        "id": "ZqYZ5wmNZUCH",
        "outputId": "b8a28479-a998-4306-bc3a-80447e1b7963"
      },
      "outputs": [
        {
          "output_type": "stream",
          "name": "stdout",
          "text": [
            "Collecting transformers\n",
            "  Downloading transformers-4.14.1-py3-none-any.whl (3.4 MB)\n",
            "\u001b[K     |████████████████████████████████| 3.4 MB 11.5 MB/s \n",
            "\u001b[?25hRequirement already satisfied: filelock in /usr/local/lib/python3.7/dist-packages (from transformers) (3.4.0)\n",
            "Requirement already satisfied: regex!=2019.12.17 in /usr/local/lib/python3.7/dist-packages (from transformers) (2019.12.20)\n",
            "Requirement already satisfied: importlib-metadata in /usr/local/lib/python3.7/dist-packages (from transformers) (4.8.2)\n",
            "Requirement already satisfied: numpy>=1.17 in /usr/local/lib/python3.7/dist-packages (from transformers) (1.19.5)\n",
            "Requirement already satisfied: tqdm>=4.27 in /usr/local/lib/python3.7/dist-packages (from transformers) (4.62.3)\n",
            "Collecting pyyaml>=5.1\n",
            "  Downloading PyYAML-6.0-cp37-cp37m-manylinux_2_5_x86_64.manylinux1_x86_64.manylinux_2_12_x86_64.manylinux2010_x86_64.whl (596 kB)\n",
            "\u001b[K     |████████████████████████████████| 596 kB 42.0 MB/s \n",
            "\u001b[?25hCollecting huggingface-hub<1.0,>=0.1.0\n",
            "  Downloading huggingface_hub-0.2.1-py3-none-any.whl (61 kB)\n",
            "\u001b[K     |████████████████████████████████| 61 kB 447 kB/s \n",
            "\u001b[?25hCollecting sacremoses\n",
            "  Downloading sacremoses-0.0.46-py3-none-any.whl (895 kB)\n",
            "\u001b[K     |████████████████████████████████| 895 kB 33.9 MB/s \n",
            "\u001b[?25hRequirement already satisfied: packaging>=20.0 in /usr/local/lib/python3.7/dist-packages (from transformers) (21.3)\n",
            "Requirement already satisfied: requests in /usr/local/lib/python3.7/dist-packages (from transformers) (2.23.0)\n",
            "Collecting tokenizers<0.11,>=0.10.1\n",
            "  Downloading tokenizers-0.10.3-cp37-cp37m-manylinux_2_5_x86_64.manylinux1_x86_64.manylinux_2_12_x86_64.manylinux2010_x86_64.whl (3.3 MB)\n",
            "\u001b[K     |████████████████████████████████| 3.3 MB 34.8 MB/s \n",
            "\u001b[?25hRequirement already satisfied: typing-extensions>=3.7.4.3 in /usr/local/lib/python3.7/dist-packages (from huggingface-hub<1.0,>=0.1.0->transformers) (3.10.0.2)\n",
            "Requirement already satisfied: pyparsing!=3.0.5,>=2.0.2 in /usr/local/lib/python3.7/dist-packages (from packaging>=20.0->transformers) (3.0.6)\n",
            "Requirement already satisfied: zipp>=0.5 in /usr/local/lib/python3.7/dist-packages (from importlib-metadata->transformers) (3.6.0)\n",
            "Requirement already satisfied: idna<3,>=2.5 in /usr/local/lib/python3.7/dist-packages (from requests->transformers) (2.10)\n",
            "Requirement already satisfied: certifi>=2017.4.17 in /usr/local/lib/python3.7/dist-packages (from requests->transformers) (2021.10.8)\n",
            "Requirement already satisfied: chardet<4,>=3.0.2 in /usr/local/lib/python3.7/dist-packages (from requests->transformers) (3.0.4)\n",
            "Requirement already satisfied: urllib3!=1.25.0,!=1.25.1,<1.26,>=1.21.1 in /usr/local/lib/python3.7/dist-packages (from requests->transformers) (1.24.3)\n",
            "Requirement already satisfied: joblib in /usr/local/lib/python3.7/dist-packages (from sacremoses->transformers) (1.1.0)\n",
            "Requirement already satisfied: click in /usr/local/lib/python3.7/dist-packages (from sacremoses->transformers) (7.1.2)\n",
            "Requirement already satisfied: six in /usr/local/lib/python3.7/dist-packages (from sacremoses->transformers) (1.15.0)\n",
            "Installing collected packages: pyyaml, tokenizers, sacremoses, huggingface-hub, transformers\n",
            "  Attempting uninstall: pyyaml\n",
            "    Found existing installation: PyYAML 3.13\n",
            "    Uninstalling PyYAML-3.13:\n",
            "      Successfully uninstalled PyYAML-3.13\n",
            "Successfully installed huggingface-hub-0.2.1 pyyaml-6.0 sacremoses-0.0.46 tokenizers-0.10.3 transformers-4.14.1\n"
          ]
        }
      ],
      "source": [
        "!pip install transformers"
      ]
    },
    {
      "cell_type": "code",
      "execution_count": 5,
      "metadata": {
        "colab": {
          "base_uri": "https://localhost:8080/"
        },
        "id": "IZ55QIiAZeP_",
        "outputId": "4856d568-553f-4d9e-a434-252bd9ef02a0"
      },
      "outputs": [
        {
          "output_type": "stream",
          "name": "stdout",
          "text": [
            "Collecting sentencepiece\n",
            "  Downloading sentencepiece-0.1.96-cp37-cp37m-manylinux_2_17_x86_64.manylinux2014_x86_64.whl (1.2 MB)\n",
            "\u001b[?25l\r\u001b[K     |▎                               | 10 kB 21.5 MB/s eta 0:00:01\r\u001b[K     |▌                               | 20 kB 26.6 MB/s eta 0:00:01\r\u001b[K     |▉                               | 30 kB 26.2 MB/s eta 0:00:01\r\u001b[K     |█                               | 40 kB 19.6 MB/s eta 0:00:01\r\u001b[K     |█▍                              | 51 kB 15.0 MB/s eta 0:00:01\r\u001b[K     |█▋                              | 61 kB 12.6 MB/s eta 0:00:01\r\u001b[K     |██                              | 71 kB 12.5 MB/s eta 0:00:01\r\u001b[K     |██▏                             | 81 kB 13.7 MB/s eta 0:00:01\r\u001b[K     |██▍                             | 92 kB 14.4 MB/s eta 0:00:01\r\u001b[K     |██▊                             | 102 kB 11.1 MB/s eta 0:00:01\r\u001b[K     |███                             | 112 kB 11.1 MB/s eta 0:00:01\r\u001b[K     |███▎                            | 122 kB 11.1 MB/s eta 0:00:01\r\u001b[K     |███▌                            | 133 kB 11.1 MB/s eta 0:00:01\r\u001b[K     |███▉                            | 143 kB 11.1 MB/s eta 0:00:01\r\u001b[K     |████                            | 153 kB 11.1 MB/s eta 0:00:01\r\u001b[K     |████▎                           | 163 kB 11.1 MB/s eta 0:00:01\r\u001b[K     |████▋                           | 174 kB 11.1 MB/s eta 0:00:01\r\u001b[K     |████▉                           | 184 kB 11.1 MB/s eta 0:00:01\r\u001b[K     |█████▏                          | 194 kB 11.1 MB/s eta 0:00:01\r\u001b[K     |█████▍                          | 204 kB 11.1 MB/s eta 0:00:01\r\u001b[K     |█████▊                          | 215 kB 11.1 MB/s eta 0:00:01\r\u001b[K     |██████                          | 225 kB 11.1 MB/s eta 0:00:01\r\u001b[K     |██████▏                         | 235 kB 11.1 MB/s eta 0:00:01\r\u001b[K     |██████▌                         | 245 kB 11.1 MB/s eta 0:00:01\r\u001b[K     |██████▊                         | 256 kB 11.1 MB/s eta 0:00:01\r\u001b[K     |███████                         | 266 kB 11.1 MB/s eta 0:00:01\r\u001b[K     |███████▎                        | 276 kB 11.1 MB/s eta 0:00:01\r\u001b[K     |███████▋                        | 286 kB 11.1 MB/s eta 0:00:01\r\u001b[K     |███████▉                        | 296 kB 11.1 MB/s eta 0:00:01\r\u001b[K     |████████                        | 307 kB 11.1 MB/s eta 0:00:01\r\u001b[K     |████████▍                       | 317 kB 11.1 MB/s eta 0:00:01\r\u001b[K     |████████▋                       | 327 kB 11.1 MB/s eta 0:00:01\r\u001b[K     |█████████                       | 337 kB 11.1 MB/s eta 0:00:01\r\u001b[K     |█████████▏                      | 348 kB 11.1 MB/s eta 0:00:01\r\u001b[K     |█████████▌                      | 358 kB 11.1 MB/s eta 0:00:01\r\u001b[K     |█████████▊                      | 368 kB 11.1 MB/s eta 0:00:01\r\u001b[K     |██████████                      | 378 kB 11.1 MB/s eta 0:00:01\r\u001b[K     |██████████▎                     | 389 kB 11.1 MB/s eta 0:00:01\r\u001b[K     |██████████▌                     | 399 kB 11.1 MB/s eta 0:00:01\r\u001b[K     |██████████▉                     | 409 kB 11.1 MB/s eta 0:00:01\r\u001b[K     |███████████                     | 419 kB 11.1 MB/s eta 0:00:01\r\u001b[K     |███████████▍                    | 430 kB 11.1 MB/s eta 0:00:01\r\u001b[K     |███████████▋                    | 440 kB 11.1 MB/s eta 0:00:01\r\u001b[K     |███████████▉                    | 450 kB 11.1 MB/s eta 0:00:01\r\u001b[K     |████████████▏                   | 460 kB 11.1 MB/s eta 0:00:01\r\u001b[K     |████████████▍                   | 471 kB 11.1 MB/s eta 0:00:01\r\u001b[K     |████████████▊                   | 481 kB 11.1 MB/s eta 0:00:01\r\u001b[K     |█████████████                   | 491 kB 11.1 MB/s eta 0:00:01\r\u001b[K     |█████████████▎                  | 501 kB 11.1 MB/s eta 0:00:01\r\u001b[K     |█████████████▌                  | 512 kB 11.1 MB/s eta 0:00:01\r\u001b[K     |█████████████▊                  | 522 kB 11.1 MB/s eta 0:00:01\r\u001b[K     |██████████████                  | 532 kB 11.1 MB/s eta 0:00:01\r\u001b[K     |██████████████▎                 | 542 kB 11.1 MB/s eta 0:00:01\r\u001b[K     |██████████████▋                 | 552 kB 11.1 MB/s eta 0:00:01\r\u001b[K     |██████████████▉                 | 563 kB 11.1 MB/s eta 0:00:01\r\u001b[K     |███████████████▏                | 573 kB 11.1 MB/s eta 0:00:01\r\u001b[K     |███████████████▍                | 583 kB 11.1 MB/s eta 0:00:01\r\u001b[K     |███████████████▋                | 593 kB 11.1 MB/s eta 0:00:01\r\u001b[K     |████████████████                | 604 kB 11.1 MB/s eta 0:00:01\r\u001b[K     |████████████████▏               | 614 kB 11.1 MB/s eta 0:00:01\r\u001b[K     |████████████████▌               | 624 kB 11.1 MB/s eta 0:00:01\r\u001b[K     |████████████████▊               | 634 kB 11.1 MB/s eta 0:00:01\r\u001b[K     |█████████████████               | 645 kB 11.1 MB/s eta 0:00:01\r\u001b[K     |█████████████████▎              | 655 kB 11.1 MB/s eta 0:00:01\r\u001b[K     |█████████████████▌              | 665 kB 11.1 MB/s eta 0:00:01\r\u001b[K     |█████████████████▉              | 675 kB 11.1 MB/s eta 0:00:01\r\u001b[K     |██████████████████              | 686 kB 11.1 MB/s eta 0:00:01\r\u001b[K     |██████████████████▍             | 696 kB 11.1 MB/s eta 0:00:01\r\u001b[K     |██████████████████▋             | 706 kB 11.1 MB/s eta 0:00:01\r\u001b[K     |███████████████████             | 716 kB 11.1 MB/s eta 0:00:01\r\u001b[K     |███████████████████▏            | 727 kB 11.1 MB/s eta 0:00:01\r\u001b[K     |███████████████████▍            | 737 kB 11.1 MB/s eta 0:00:01\r\u001b[K     |███████████████████▊            | 747 kB 11.1 MB/s eta 0:00:01\r\u001b[K     |████████████████████            | 757 kB 11.1 MB/s eta 0:00:01\r\u001b[K     |████████████████████▎           | 768 kB 11.1 MB/s eta 0:00:01\r\u001b[K     |████████████████████▌           | 778 kB 11.1 MB/s eta 0:00:01\r\u001b[K     |████████████████████▉           | 788 kB 11.1 MB/s eta 0:00:01\r\u001b[K     |█████████████████████           | 798 kB 11.1 MB/s eta 0:00:01\r\u001b[K     |█████████████████████▎          | 808 kB 11.1 MB/s eta 0:00:01\r\u001b[K     |█████████████████████▋          | 819 kB 11.1 MB/s eta 0:00:01\r\u001b[K     |█████████████████████▉          | 829 kB 11.1 MB/s eta 0:00:01\r\u001b[K     |██████████████████████▏         | 839 kB 11.1 MB/s eta 0:00:01\r\u001b[K     |██████████████████████▍         | 849 kB 11.1 MB/s eta 0:00:01\r\u001b[K     |██████████████████████▊         | 860 kB 11.1 MB/s eta 0:00:01\r\u001b[K     |███████████████████████         | 870 kB 11.1 MB/s eta 0:00:01\r\u001b[K     |███████████████████████▏        | 880 kB 11.1 MB/s eta 0:00:01\r\u001b[K     |███████████████████████▌        | 890 kB 11.1 MB/s eta 0:00:01\r\u001b[K     |███████████████████████▊        | 901 kB 11.1 MB/s eta 0:00:01\r\u001b[K     |████████████████████████        | 911 kB 11.1 MB/s eta 0:00:01\r\u001b[K     |████████████████████████▎       | 921 kB 11.1 MB/s eta 0:00:01\r\u001b[K     |████████████████████████▋       | 931 kB 11.1 MB/s eta 0:00:01\r\u001b[K     |████████████████████████▉       | 942 kB 11.1 MB/s eta 0:00:01\r\u001b[K     |█████████████████████████       | 952 kB 11.1 MB/s eta 0:00:01\r\u001b[K     |█████████████████████████▍      | 962 kB 11.1 MB/s eta 0:00:01\r\u001b[K     |█████████████████████████▋      | 972 kB 11.1 MB/s eta 0:00:01\r\u001b[K     |██████████████████████████      | 983 kB 11.1 MB/s eta 0:00:01\r\u001b[K     |██████████████████████████▏     | 993 kB 11.1 MB/s eta 0:00:01\r\u001b[K     |██████████████████████████▌     | 1.0 MB 11.1 MB/s eta 0:00:01\r\u001b[K     |██████████████████████████▊     | 1.0 MB 11.1 MB/s eta 0:00:01\r\u001b[K     |███████████████████████████     | 1.0 MB 11.1 MB/s eta 0:00:01\r\u001b[K     |███████████████████████████▎    | 1.0 MB 11.1 MB/s eta 0:00:01\r\u001b[K     |███████████████████████████▌    | 1.0 MB 11.1 MB/s eta 0:00:01\r\u001b[K     |███████████████████████████▉    | 1.1 MB 11.1 MB/s eta 0:00:01\r\u001b[K     |████████████████████████████    | 1.1 MB 11.1 MB/s eta 0:00:01\r\u001b[K     |████████████████████████████▍   | 1.1 MB 11.1 MB/s eta 0:00:01\r\u001b[K     |████████████████████████████▋   | 1.1 MB 11.1 MB/s eta 0:00:01\r\u001b[K     |████████████████████████████▉   | 1.1 MB 11.1 MB/s eta 0:00:01\r\u001b[K     |█████████████████████████████▏  | 1.1 MB 11.1 MB/s eta 0:00:01\r\u001b[K     |█████████████████████████████▍  | 1.1 MB 11.1 MB/s eta 0:00:01\r\u001b[K     |█████████████████████████████▊  | 1.1 MB 11.1 MB/s eta 0:00:01\r\u001b[K     |██████████████████████████████  | 1.1 MB 11.1 MB/s eta 0:00:01\r\u001b[K     |██████████████████████████████▎ | 1.1 MB 11.1 MB/s eta 0:00:01\r\u001b[K     |██████████████████████████████▌ | 1.2 MB 11.1 MB/s eta 0:00:01\r\u001b[K     |██████████████████████████████▊ | 1.2 MB 11.1 MB/s eta 0:00:01\r\u001b[K     |███████████████████████████████ | 1.2 MB 11.1 MB/s eta 0:00:01\r\u001b[K     |███████████████████████████████▎| 1.2 MB 11.1 MB/s eta 0:00:01\r\u001b[K     |███████████████████████████████▋| 1.2 MB 11.1 MB/s eta 0:00:01\r\u001b[K     |███████████████████████████████▉| 1.2 MB 11.1 MB/s eta 0:00:01\r\u001b[K     |████████████████████████████████| 1.2 MB 11.1 MB/s \n",
            "\u001b[?25hInstalling collected packages: sentencepiece\n",
            "Successfully installed sentencepiece-0.1.96\n"
          ]
        }
      ],
      "source": [
        "% pip install sentencepiece"
      ]
    },
    {
      "cell_type": "code",
      "execution_count": 5,
      "metadata": {
        "id": "Bb-Ues9xnfQ3"
      },
      "outputs": [],
      "source": [
        ""
      ]
    },
    {
      "cell_type": "code",
      "execution_count": 6,
      "metadata": {
        "id": "tLSEg7Z9Y-aD"
      },
      "outputs": [],
      "source": [
        "import tensorflow_hub as hub\n",
        "import tokenization\n",
        "module_url = 'https://tfhub.dev/tensorflow/bert_en_uncased_L-12_H-768_A-12/2'\n",
        "bert_layer = hub.KerasLayer(module_url, trainable=True)"
      ]
    },
    {
      "cell_type": "code",
      "execution_count": 7,
      "metadata": {
        "id": "ang5eDRBmtVH"
      },
      "outputs": [],
      "source": [
        "import pandas as pd"
      ]
    },
    {
      "cell_type": "code",
      "execution_count": 8,
      "metadata": {
        "id": "73KK03EVZFrk"
      },
      "outputs": [],
      "source": [
        "df = pd.read_csv(\"/content/drive/MyDrive/yelp_dataset/final_data_yelp2.csv\")\n"
      ]
    },
    {
      "cell_type": "code",
      "execution_count": 9,
      "metadata": {
        "id": "gyvDjr_9mdwg"
      },
      "outputs": [],
      "source": [
        "df.drop(['Unnamed: 0', 'Unnamed: 0.1', 'business_id', 'city', 'state_x',\n",
        "       'user_id', 'review_stars', 'useful_x', 'date', 'useful_y',\n",
        "       'fans', 'Smogscore', 'review_word_count', 'Polarity',\n",
        "       'Analysis_TextBlob', 'Vader Sentiment', 'Vader Analysis', 'fips',\n",
        "       'cases', 'deaths'],axis = 1,inplace = True)"
      ]
    },
    {
      "cell_type": "code",
      "execution_count": 10,
      "metadata": {
        "id": "WAw5vxzXoVEY"
      },
      "outputs": [],
      "source": [
        "from sklearn.model_selection import train_test_split"
      ]
    },
    {
      "cell_type": "code",
      "execution_count": 11,
      "metadata": {
        "id": "FkA3DQudoGO6"
      },
      "outputs": [],
      "source": [
        "#y = df['review_stars']\n",
        "#X = df.drop(\"DEATH_EVENT\", axis = 1)\n",
        "X = df.drop([\"label\"], axis = 1)\n",
        "train, test = train_test_split(df, test_size=0.2, random_state=25)"
      ]
    },
    {
      "cell_type": "code",
      "execution_count": 12,
      "metadata": {
        "id": "2oBw_k7NoTfO"
      },
      "outputs": [],
      "source": [
        "vocab_file = bert_layer.resolved_object.vocab_file.asset_path.numpy()\n",
        "do_lower_case = bert_layer.resolved_object.do_lower_case.numpy()\n",
        "tokenizer = tokenization.FullTokenizer(vocab_file, do_lower_case)\n",
        "\n",
        "def bert_encode(texts, tokenizer, max_len=512):\n",
        "    all_tokens = []\n",
        "    all_masks = []\n",
        "    all_segments = []\n",
        "    \n",
        "    for text in texts:\n",
        "        text = tokenizer.tokenize(text)\n",
        "            \n",
        "        text = text[:max_len-2]\n",
        "        input_sequence = [\"[CLS]\"] + text + [\"[SEP]\"]\n",
        "        pad_len = max_len - len(input_sequence)\n",
        "        \n",
        "        tokens = tokenizer.convert_tokens_to_ids(input_sequence) + [0] * pad_len\n",
        "        pad_masks = [1] * len(input_sequence) + [0] * pad_len\n",
        "        segment_ids = [0] * max_len\n",
        "        \n",
        "        all_tokens.append(tokens)\n",
        "        all_masks.append(pad_masks)\n",
        "        all_segments.append(segment_ids)\n",
        "    \n",
        "    return np.array(all_tokens), np.array(all_masks), np.array(all_segments)"
      ]
    },
    {
      "cell_type": "code",
      "execution_count": 13,
      "metadata": {
        "id": "VoMESNZ6pGai"
      },
      "outputs": [],
      "source": [
        "def build_model(bert_layer, max_len=512):\n",
        "    input_word_ids = tf.keras.Input(shape=(max_len,), dtype=tf.int32, name=\"input_word_ids\")\n",
        "    input_mask = tf.keras.Input(shape=(max_len,), dtype=tf.int32, name=\"input_mask\")\n",
        "    segment_ids = tf.keras.Input(shape=(max_len,), dtype=tf.int32, name=\"segment_ids\")\n",
        "\n",
        "    pooled_output, sequence_output = bert_layer([input_word_ids, input_mask, segment_ids])\n",
        "    clf_output = sequence_output[:, 0, :]\n",
        "    net = tf.keras.layers.Dense(64, activation='relu')(clf_output)\n",
        "    net = tf.keras.layers.Dropout(0.2)(net)\n",
        "    net = tf.keras.layers.Dense(32, activation='relu')(net)\n",
        "    net = tf.keras.layers.Dropout(0.2)(net)\n",
        "    out = tf.keras.layers.Dense(2, activation='softmax')(net)\n",
        "    \n",
        "    model = tf.keras.models.Model(inputs=[input_word_ids, input_mask, segment_ids], outputs=out)\n",
        "    model.compile(tf.keras.optimizers.Adam(lr=1e-5), loss='categorical_crossentropy', metrics=['accuracy'])\n",
        "    \n",
        "    return model"
      ]
    },
    {
      "cell_type": "code",
      "execution_count": 14,
      "metadata": {
        "id": "5oJNk-sKqcjf"
      },
      "outputs": [],
      "source": [
        "import numpy as np"
      ]
    },
    {
      "cell_type": "code",
      "execution_count": 15,
      "metadata": {
        "id": "xzlYaPYHuOCQ"
      },
      "outputs": [],
      "source": [
        "from tensorflow.keras.preprocessing.text import Tokenizer\n",
        "from tensorflow.keras.preprocessing.sequence import pad_sequences\n",
        "from tensorflow.keras.models import Sequential\n",
        "from tensorflow.keras.layers import Dense, Embedding, LSTM, Conv1D, MaxPool1D\n",
        "from sklearn.model_selection import train_test_split\n",
        "from sklearn.metrics import classification_report, accuracy_score"
      ]
    },
    {
      "cell_type": "code",
      "execution_count": 16,
      "metadata": {
        "id": "T9U37Yy0wVcY"
      },
      "outputs": [],
      "source": [
        "import keras"
      ]
    },
    {
      "cell_type": "code",
      "execution_count": 17,
      "metadata": {
        "id": "DNxZWSSewp3v"
      },
      "outputs": [],
      "source": [
        "import tensorflow as tf"
      ]
    },
    {
      "cell_type": "code",
      "execution_count": 18,
      "metadata": {
        "id": "4f8HLcLSyN2g"
      },
      "outputs": [],
      "source": [
        "from tensorflow.keras.utils import to_categorical"
      ]
    },
    {
      "cell_type": "code",
      "execution_count": 19,
      "metadata": {
        "colab": {
          "base_uri": "https://localhost:8080/"
        },
        "id": "P4GFZkSdEV_h",
        "outputId": "07a67442-4119-45ce-dd9d-d985c24b0d32"
      },
      "outputs": [
        {
          "output_type": "stream",
          "name": "stdout",
          "text": [
            "Collecting keras.utils\n",
            "  Downloading keras-utils-1.0.13.tar.gz (2.4 kB)\n",
            "Requirement already satisfied: Keras>=2.1.5 in /usr/local/lib/python3.7/dist-packages (from keras.utils) (2.7.0)\n",
            "Building wheels for collected packages: keras.utils\n",
            "  Building wheel for keras.utils (setup.py) ... \u001b[?25l\u001b[?25hdone\n",
            "  Created wheel for keras.utils: filename=keras_utils-1.0.13-py3-none-any.whl size=2656 sha256=eb86cedbfce691d9d66b07a6452f1984b1514082bd80d26c8670b2ee124176b4\n",
            "  Stored in directory: /root/.cache/pip/wheels/d0/dd/3b/493952a5240d486a83805d65360dedadbadeae71d25e2c877f\n",
            "Successfully built keras.utils\n",
            "Installing collected packages: keras.utils\n",
            "Successfully installed keras.utils-1.0.13\n"
          ]
        }
      ],
      "source": [
        "!pip install keras.utils"
      ]
    },
    {
      "cell_type": "code",
      "execution_count": 20,
      "metadata": {
        "id": "hRMqjDFMz_iq"
      },
      "outputs": [],
      "source": [
        "#from keras.utils import to_categorical"
      ]
    },
    {
      "cell_type": "code",
      "execution_count": 21,
      "metadata": {
        "colab": {
          "base_uri": "https://localhost:8080/",
          "height": 423
        },
        "id": "ZU689BU03hGr",
        "outputId": "f38f0464-964d-47b6-ed14-b4439feb7c26"
      },
      "outputs": [
        {
          "output_type": "execute_result",
          "data": {
            "text/html": [
              "\n",
              "  <div id=\"df-9fc1d0f3-1bb3-4f7b-8bd3-d8dc9e597bed\">\n",
              "    <div class=\"colab-df-container\">\n",
              "      <div>\n",
              "<style scoped>\n",
              "    .dataframe tbody tr th:only-of-type {\n",
              "        vertical-align: middle;\n",
              "    }\n",
              "\n",
              "    .dataframe tbody tr th {\n",
              "        vertical-align: top;\n",
              "    }\n",
              "\n",
              "    .dataframe thead th {\n",
              "        text-align: right;\n",
              "    }\n",
              "</style>\n",
              "<table border=\"1\" class=\"dataframe\">\n",
              "  <thead>\n",
              "    <tr style=\"text-align: right;\">\n",
              "      <th></th>\n",
              "      <th>text</th>\n",
              "      <th>label</th>\n",
              "    </tr>\n",
              "  </thead>\n",
              "  <tbody>\n",
              "    <tr>\n",
              "      <th>63082</th>\n",
              "      <td>So Im hoping this was just an off night for yo...</td>\n",
              "      <td>1.0</td>\n",
              "    </tr>\n",
              "    <tr>\n",
              "      <th>139977</th>\n",
              "      <td>The first time I visited AF was during a cold ...</td>\n",
              "      <td>1.0</td>\n",
              "    </tr>\n",
              "    <tr>\n",
              "      <th>67546</th>\n",
              "      <td>Excellent food authentic and tasty If you love...</td>\n",
              "      <td>1.0</td>\n",
              "    </tr>\n",
              "    <tr>\n",
              "      <th>146484</th>\n",
              "      <td>Thank you Katie My amazing bartender Katie O w...</td>\n",
              "      <td>1.0</td>\n",
              "    </tr>\n",
              "    <tr>\n",
              "      <th>1769</th>\n",
              "      <td>This is definitely one of the best authentic b...</td>\n",
              "      <td>1.0</td>\n",
              "    </tr>\n",
              "    <tr>\n",
              "      <th>...</th>\n",
              "      <td>...</td>\n",
              "      <td>...</td>\n",
              "    </tr>\n",
              "    <tr>\n",
              "      <th>130365</th>\n",
              "      <td>Review for brunch The vibe is very cool and hi...</td>\n",
              "      <td>1.0</td>\n",
              "    </tr>\n",
              "    <tr>\n",
              "      <th>92303</th>\n",
              "      <td>In these trying times there isnt a day that go...</td>\n",
              "      <td>1.0</td>\n",
              "    </tr>\n",
              "    <tr>\n",
              "      <th>6618</th>\n",
              "      <td>First timer This place was so good Its not ver...</td>\n",
              "      <td>1.0</td>\n",
              "    </tr>\n",
              "    <tr>\n",
              "      <th>90430</th>\n",
              "      <td>I generally only like thin crust pizza but thi...</td>\n",
              "      <td>1.0</td>\n",
              "    </tr>\n",
              "    <tr>\n",
              "      <th>29828</th>\n",
              "      <td>We ate here for brunch on the last day of our ...</td>\n",
              "      <td>1.0</td>\n",
              "    </tr>\n",
              "  </tbody>\n",
              "</table>\n",
              "<p>158359 rows × 2 columns</p>\n",
              "</div>\n",
              "      <button class=\"colab-df-convert\" onclick=\"convertToInteractive('df-9fc1d0f3-1bb3-4f7b-8bd3-d8dc9e597bed')\"\n",
              "              title=\"Convert this dataframe to an interactive table.\"\n",
              "              style=\"display:none;\">\n",
              "        \n",
              "  <svg xmlns=\"http://www.w3.org/2000/svg\" height=\"24px\"viewBox=\"0 0 24 24\"\n",
              "       width=\"24px\">\n",
              "    <path d=\"M0 0h24v24H0V0z\" fill=\"none\"/>\n",
              "    <path d=\"M18.56 5.44l.94 2.06.94-2.06 2.06-.94-2.06-.94-.94-2.06-.94 2.06-2.06.94zm-11 1L8.5 8.5l.94-2.06 2.06-.94-2.06-.94L8.5 2.5l-.94 2.06-2.06.94zm10 10l.94 2.06.94-2.06 2.06-.94-2.06-.94-.94-2.06-.94 2.06-2.06.94z\"/><path d=\"M17.41 7.96l-1.37-1.37c-.4-.4-.92-.59-1.43-.59-.52 0-1.04.2-1.43.59L10.3 9.45l-7.72 7.72c-.78.78-.78 2.05 0 2.83L4 21.41c.39.39.9.59 1.41.59.51 0 1.02-.2 1.41-.59l7.78-7.78 2.81-2.81c.8-.78.8-2.07 0-2.86zM5.41 20L4 18.59l7.72-7.72 1.47 1.35L5.41 20z\"/>\n",
              "  </svg>\n",
              "      </button>\n",
              "      \n",
              "  <style>\n",
              "    .colab-df-container {\n",
              "      display:flex;\n",
              "      flex-wrap:wrap;\n",
              "      gap: 12px;\n",
              "    }\n",
              "\n",
              "    .colab-df-convert {\n",
              "      background-color: #E8F0FE;\n",
              "      border: none;\n",
              "      border-radius: 50%;\n",
              "      cursor: pointer;\n",
              "      display: none;\n",
              "      fill: #1967D2;\n",
              "      height: 32px;\n",
              "      padding: 0 0 0 0;\n",
              "      width: 32px;\n",
              "    }\n",
              "\n",
              "    .colab-df-convert:hover {\n",
              "      background-color: #E2EBFA;\n",
              "      box-shadow: 0px 1px 2px rgba(60, 64, 67, 0.3), 0px 1px 3px 1px rgba(60, 64, 67, 0.15);\n",
              "      fill: #174EA6;\n",
              "    }\n",
              "\n",
              "    [theme=dark] .colab-df-convert {\n",
              "      background-color: #3B4455;\n",
              "      fill: #D2E3FC;\n",
              "    }\n",
              "\n",
              "    [theme=dark] .colab-df-convert:hover {\n",
              "      background-color: #434B5C;\n",
              "      box-shadow: 0px 1px 3px 1px rgba(0, 0, 0, 0.15);\n",
              "      filter: drop-shadow(0px 1px 2px rgba(0, 0, 0, 0.3));\n",
              "      fill: #FFFFFF;\n",
              "    }\n",
              "  </style>\n",
              "\n",
              "      <script>\n",
              "        const buttonEl =\n",
              "          document.querySelector('#df-9fc1d0f3-1bb3-4f7b-8bd3-d8dc9e597bed button.colab-df-convert');\n",
              "        buttonEl.style.display =\n",
              "          google.colab.kernel.accessAllowed ? 'block' : 'none';\n",
              "\n",
              "        async function convertToInteractive(key) {\n",
              "          const element = document.querySelector('#df-9fc1d0f3-1bb3-4f7b-8bd3-d8dc9e597bed');\n",
              "          const dataTable =\n",
              "            await google.colab.kernel.invokeFunction('convertToInteractive',\n",
              "                                                     [key], {});\n",
              "          if (!dataTable) return;\n",
              "\n",
              "          const docLinkHtml = 'Like what you see? Visit the ' +\n",
              "            '<a target=\"_blank\" href=https://colab.research.google.com/notebooks/data_table.ipynb>data table notebook</a>'\n",
              "            + ' to learn more about interactive tables.';\n",
              "          element.innerHTML = '';\n",
              "          dataTable['output_type'] = 'display_data';\n",
              "          await google.colab.output.renderOutput(dataTable, element);\n",
              "          const docLink = document.createElement('div');\n",
              "          docLink.innerHTML = docLinkHtml;\n",
              "          element.appendChild(docLink);\n",
              "        }\n",
              "      </script>\n",
              "    </div>\n",
              "  </div>\n",
              "  "
            ],
            "text/plain": [
              "                                                     text  label\n",
              "63082   So Im hoping this was just an off night for yo...    1.0\n",
              "139977  The first time I visited AF was during a cold ...    1.0\n",
              "67546   Excellent food authentic and tasty If you love...    1.0\n",
              "146484  Thank you Katie My amazing bartender Katie O w...    1.0\n",
              "1769    This is definitely one of the best authentic b...    1.0\n",
              "...                                                   ...    ...\n",
              "130365  Review for brunch The vibe is very cool and hi...    1.0\n",
              "92303   In these trying times there isnt a day that go...    1.0\n",
              "6618    First timer This place was so good Its not ver...    1.0\n",
              "90430   I generally only like thin crust pizza but thi...    1.0\n",
              "29828   We ate here for brunch on the last day of our ...    1.0\n",
              "\n",
              "[158359 rows x 2 columns]"
            ]
          },
          "metadata": {},
          "execution_count": 21
        }
      ],
      "source": [
        "train"
      ]
    },
    {
      "cell_type": "code",
      "execution_count": 22,
      "metadata": {
        "id": "0OUp2OW4pKAH"
      },
      "outputs": [],
      "source": [
        "max_len = 150\n",
        "train_input = bert_encode(train.text.values, tokenizer, max_len=max_len)\n",
        "test_input = bert_encode(test.text.values, tokenizer, max_len=max_len)\n"
      ]
    },
    {
      "cell_type": "code",
      "execution_count": 23,
      "metadata": {
        "id": "H5Lx1xOKkneL"
      },
      "outputs": [],
      "source": [
        "train.reset_index(drop=True,inplace = True)"
      ]
    },
    {
      "cell_type": "code",
      "execution_count": 24,
      "metadata": {
        "colab": {
          "base_uri": "https://localhost:8080/",
          "height": 423
        },
        "id": "HgN2H6hGlzjS",
        "outputId": "fad0ce78-e70e-4284-9c60-7c9ed8908b87"
      },
      "outputs": [
        {
          "output_type": "execute_result",
          "data": {
            "text/html": [
              "\n",
              "  <div id=\"df-39115336-9609-4278-8691-9a98294adc3b\">\n",
              "    <div class=\"colab-df-container\">\n",
              "      <div>\n",
              "<style scoped>\n",
              "    .dataframe tbody tr th:only-of-type {\n",
              "        vertical-align: middle;\n",
              "    }\n",
              "\n",
              "    .dataframe tbody tr th {\n",
              "        vertical-align: top;\n",
              "    }\n",
              "\n",
              "    .dataframe thead th {\n",
              "        text-align: right;\n",
              "    }\n",
              "</style>\n",
              "<table border=\"1\" class=\"dataframe\">\n",
              "  <thead>\n",
              "    <tr style=\"text-align: right;\">\n",
              "      <th></th>\n",
              "      <th>text</th>\n",
              "      <th>label</th>\n",
              "    </tr>\n",
              "  </thead>\n",
              "  <tbody>\n",
              "    <tr>\n",
              "      <th>0</th>\n",
              "      <td>So Im hoping this was just an off night for yo...</td>\n",
              "      <td>1.0</td>\n",
              "    </tr>\n",
              "    <tr>\n",
              "      <th>1</th>\n",
              "      <td>The first time I visited AF was during a cold ...</td>\n",
              "      <td>1.0</td>\n",
              "    </tr>\n",
              "    <tr>\n",
              "      <th>2</th>\n",
              "      <td>Excellent food authentic and tasty If you love...</td>\n",
              "      <td>1.0</td>\n",
              "    </tr>\n",
              "    <tr>\n",
              "      <th>3</th>\n",
              "      <td>Thank you Katie My amazing bartender Katie O w...</td>\n",
              "      <td>1.0</td>\n",
              "    </tr>\n",
              "    <tr>\n",
              "      <th>4</th>\n",
              "      <td>This is definitely one of the best authentic b...</td>\n",
              "      <td>1.0</td>\n",
              "    </tr>\n",
              "    <tr>\n",
              "      <th>...</th>\n",
              "      <td>...</td>\n",
              "      <td>...</td>\n",
              "    </tr>\n",
              "    <tr>\n",
              "      <th>158354</th>\n",
              "      <td>Review for brunch The vibe is very cool and hi...</td>\n",
              "      <td>1.0</td>\n",
              "    </tr>\n",
              "    <tr>\n",
              "      <th>158355</th>\n",
              "      <td>In these trying times there isnt a day that go...</td>\n",
              "      <td>1.0</td>\n",
              "    </tr>\n",
              "    <tr>\n",
              "      <th>158356</th>\n",
              "      <td>First timer This place was so good Its not ver...</td>\n",
              "      <td>1.0</td>\n",
              "    </tr>\n",
              "    <tr>\n",
              "      <th>158357</th>\n",
              "      <td>I generally only like thin crust pizza but thi...</td>\n",
              "      <td>1.0</td>\n",
              "    </tr>\n",
              "    <tr>\n",
              "      <th>158358</th>\n",
              "      <td>We ate here for brunch on the last day of our ...</td>\n",
              "      <td>1.0</td>\n",
              "    </tr>\n",
              "  </tbody>\n",
              "</table>\n",
              "<p>158359 rows × 2 columns</p>\n",
              "</div>\n",
              "      <button class=\"colab-df-convert\" onclick=\"convertToInteractive('df-39115336-9609-4278-8691-9a98294adc3b')\"\n",
              "              title=\"Convert this dataframe to an interactive table.\"\n",
              "              style=\"display:none;\">\n",
              "        \n",
              "  <svg xmlns=\"http://www.w3.org/2000/svg\" height=\"24px\"viewBox=\"0 0 24 24\"\n",
              "       width=\"24px\">\n",
              "    <path d=\"M0 0h24v24H0V0z\" fill=\"none\"/>\n",
              "    <path d=\"M18.56 5.44l.94 2.06.94-2.06 2.06-.94-2.06-.94-.94-2.06-.94 2.06-2.06.94zm-11 1L8.5 8.5l.94-2.06 2.06-.94-2.06-.94L8.5 2.5l-.94 2.06-2.06.94zm10 10l.94 2.06.94-2.06 2.06-.94-2.06-.94-.94-2.06-.94 2.06-2.06.94z\"/><path d=\"M17.41 7.96l-1.37-1.37c-.4-.4-.92-.59-1.43-.59-.52 0-1.04.2-1.43.59L10.3 9.45l-7.72 7.72c-.78.78-.78 2.05 0 2.83L4 21.41c.39.39.9.59 1.41.59.51 0 1.02-.2 1.41-.59l7.78-7.78 2.81-2.81c.8-.78.8-2.07 0-2.86zM5.41 20L4 18.59l7.72-7.72 1.47 1.35L5.41 20z\"/>\n",
              "  </svg>\n",
              "      </button>\n",
              "      \n",
              "  <style>\n",
              "    .colab-df-container {\n",
              "      display:flex;\n",
              "      flex-wrap:wrap;\n",
              "      gap: 12px;\n",
              "    }\n",
              "\n",
              "    .colab-df-convert {\n",
              "      background-color: #E8F0FE;\n",
              "      border: none;\n",
              "      border-radius: 50%;\n",
              "      cursor: pointer;\n",
              "      display: none;\n",
              "      fill: #1967D2;\n",
              "      height: 32px;\n",
              "      padding: 0 0 0 0;\n",
              "      width: 32px;\n",
              "    }\n",
              "\n",
              "    .colab-df-convert:hover {\n",
              "      background-color: #E2EBFA;\n",
              "      box-shadow: 0px 1px 2px rgba(60, 64, 67, 0.3), 0px 1px 3px 1px rgba(60, 64, 67, 0.15);\n",
              "      fill: #174EA6;\n",
              "    }\n",
              "\n",
              "    [theme=dark] .colab-df-convert {\n",
              "      background-color: #3B4455;\n",
              "      fill: #D2E3FC;\n",
              "    }\n",
              "\n",
              "    [theme=dark] .colab-df-convert:hover {\n",
              "      background-color: #434B5C;\n",
              "      box-shadow: 0px 1px 3px 1px rgba(0, 0, 0, 0.15);\n",
              "      filter: drop-shadow(0px 1px 2px rgba(0, 0, 0, 0.3));\n",
              "      fill: #FFFFFF;\n",
              "    }\n",
              "  </style>\n",
              "\n",
              "      <script>\n",
              "        const buttonEl =\n",
              "          document.querySelector('#df-39115336-9609-4278-8691-9a98294adc3b button.colab-df-convert');\n",
              "        buttonEl.style.display =\n",
              "          google.colab.kernel.accessAllowed ? 'block' : 'none';\n",
              "\n",
              "        async function convertToInteractive(key) {\n",
              "          const element = document.querySelector('#df-39115336-9609-4278-8691-9a98294adc3b');\n",
              "          const dataTable =\n",
              "            await google.colab.kernel.invokeFunction('convertToInteractive',\n",
              "                                                     [key], {});\n",
              "          if (!dataTable) return;\n",
              "\n",
              "          const docLinkHtml = 'Like what you see? Visit the ' +\n",
              "            '<a target=\"_blank\" href=https://colab.research.google.com/notebooks/data_table.ipynb>data table notebook</a>'\n",
              "            + ' to learn more about interactive tables.';\n",
              "          element.innerHTML = '';\n",
              "          dataTable['output_type'] = 'display_data';\n",
              "          await google.colab.output.renderOutput(dataTable, element);\n",
              "          const docLink = document.createElement('div');\n",
              "          docLink.innerHTML = docLinkHtml;\n",
              "          element.appendChild(docLink);\n",
              "        }\n",
              "      </script>\n",
              "    </div>\n",
              "  </div>\n",
              "  "
            ],
            "text/plain": [
              "                                                     text  label\n",
              "0       So Im hoping this was just an off night for yo...    1.0\n",
              "1       The first time I visited AF was during a cold ...    1.0\n",
              "2       Excellent food authentic and tasty If you love...    1.0\n",
              "3       Thank you Katie My amazing bartender Katie O w...    1.0\n",
              "4       This is definitely one of the best authentic b...    1.0\n",
              "...                                                   ...    ...\n",
              "158354  Review for brunch The vibe is very cool and hi...    1.0\n",
              "158355  In these trying times there isnt a day that go...    1.0\n",
              "158356  First timer This place was so good Its not ver...    1.0\n",
              "158357  I generally only like thin crust pizza but thi...    1.0\n",
              "158358  We ate here for brunch on the last day of our ...    1.0\n",
              "\n",
              "[158359 rows x 2 columns]"
            ]
          },
          "metadata": {},
          "execution_count": 24
        }
      ],
      "source": [
        "train"
      ]
    },
    {
      "cell_type": "code",
      "execution_count": 25,
      "metadata": {
        "id": "OL7uTzq8EJJ6"
      },
      "outputs": [],
      "source": [
        "train_labels = tf.keras.utils.to_categorical(train.label.values, num_classes=None)"
      ]
    },
    {
      "cell_type": "code",
      "execution_count": 26,
      "metadata": {
        "colab": {
          "base_uri": "https://localhost:8080/"
        },
        "id": "Hza3eF0HKNOz",
        "outputId": "d22d5149-dcaa-4447-8ad7-4e9ff9c5ec41"
      },
      "outputs": [
        {
          "output_type": "execute_result",
          "data": {
            "text/plain": [
              "array([[0., 1.],\n",
              "       [0., 1.],\n",
              "       [0., 1.],\n",
              "       ...,\n",
              "       [0., 1.],\n",
              "       [0., 1.],\n",
              "       [0., 1.]], dtype=float32)"
            ]
          },
          "metadata": {},
          "execution_count": 26
        }
      ],
      "source": [
        "train_labels"
      ]
    },
    {
      "cell_type": "code",
      "execution_count": 27,
      "metadata": {
        "colab": {
          "base_uri": "https://localhost:8080/"
        },
        "id": "BEm2n-DRpSn5",
        "outputId": "c3572805-ff84-442a-dc8f-25c59b6fe63b"
      },
      "outputs": [
        {
          "output_type": "stream",
          "name": "stdout",
          "text": [
            "Model: \"model\"\n",
            "__________________________________________________________________________________________________\n",
            " Layer (type)                   Output Shape         Param #     Connected to                     \n",
            "==================================================================================================\n",
            " input_word_ids (InputLayer)    [(None, 150)]        0           []                               \n",
            "                                                                                                  \n",
            " input_mask (InputLayer)        [(None, 150)]        0           []                               \n",
            "                                                                                                  \n",
            " segment_ids (InputLayer)       [(None, 150)]        0           []                               \n",
            "                                                                                                  \n",
            " keras_layer (KerasLayer)       [(None, 768),        109482241   ['input_word_ids[0][0]',         \n",
            "                                 (None, 150, 768)]                'input_mask[0][0]',             \n",
            "                                                                  'segment_ids[0][0]']            \n",
            "                                                                                                  \n",
            " tf.__operators__.getitem (Slic  (None, 768)         0           ['keras_layer[0][1]']            \n",
            " ingOpLambda)                                                                                     \n",
            "                                                                                                  \n",
            " dense (Dense)                  (None, 64)           49216       ['tf.__operators__.getitem[0][0]'\n",
            "                                                                 ]                                \n",
            "                                                                                                  \n",
            " dropout (Dropout)              (None, 64)           0           ['dense[0][0]']                  \n",
            "                                                                                                  \n",
            " dense_1 (Dense)                (None, 32)           2080        ['dropout[0][0]']                \n",
            "                                                                                                  \n",
            " dropout_1 (Dropout)            (None, 32)           0           ['dense_1[0][0]']                \n",
            "                                                                                                  \n",
            " dense_2 (Dense)                (None, 2)            66          ['dropout_1[0][0]']              \n",
            "                                                                                                  \n",
            "==================================================================================================\n",
            "Total params: 109,533,603\n",
            "Trainable params: 109,533,602\n",
            "Non-trainable params: 1\n",
            "__________________________________________________________________________________________________\n"
          ]
        },
        {
          "output_type": "stream",
          "name": "stderr",
          "text": [
            "/usr/local/lib/python3.7/dist-packages/keras/optimizer_v2/adam.py:105: UserWarning: The `lr` argument is deprecated, use `learning_rate` instead.\n",
            "  super(Adam, self).__init__(name, **kwargs)\n"
          ]
        }
      ],
      "source": [
        "model = build_model(bert_layer, max_len=max_len)\n",
        "model.summary()"
      ]
    },
    {
      "cell_type": "code",
      "execution_count": 28,
      "metadata": {
        "id": "kt7SsJcWp8qj",
        "colab": {
          "base_uri": "https://localhost:8080/"
        },
        "outputId": "d9c75fe4-8c4a-4a57-89a3-e3e6f0027153"
      },
      "outputs": [
        {
          "output_type": "stream",
          "name": "stdout",
          "text": [
            "3959/3959 [==============================] - ETA: 0s - loss: 0.1236 - accuracy: 0.9485\n",
            "Epoch 00001: val_accuracy improved from -inf to 0.96461, saving model to model.h5\n",
            "3959/3959 [==============================] - 8083s 2s/step - loss: 0.1236 - accuracy: 0.9485 - val_loss: 0.0848 - val_accuracy: 0.9646\n"
          ]
        }
      ],
      "source": [
        "checkpoint = tf.keras.callbacks.ModelCheckpoint('model.h5', monitor='val_accuracy', save_best_only=True, verbose=1)\n",
        "earlystopping = tf.keras.callbacks.EarlyStopping(monitor='val_accuracy', patience=5, verbose=1)\n",
        "\n",
        "train_history = model.fit(\n",
        "    train_input, train_labels, \n",
        "    validation_split=0.2,\n",
        "    epochs=1,\n",
        "    callbacks=[checkpoint, earlystopping],\n",
        "    batch_size=32,\n",
        "    verbose=1)"
      ]
    },
    {
      "cell_type": "code",
      "execution_count": 29,
      "metadata": {
        "id": "NP-bRdOep-S8"
      },
      "outputs": [],
      "source": [
        "model.load_weights('model.h5')\n",
        "y_pred = model.predict(test_input)"
      ]
    },
    {
      "cell_type": "code",
      "source": [
        "y_pred"
      ],
      "metadata": {
        "id": "DkAGk_OryPcp",
        "colab": {
          "base_uri": "https://localhost:8080/"
        },
        "outputId": "6b62aac3-4bbc-43de-e224-b62f6dbe0373"
      },
      "execution_count": 30,
      "outputs": [
        {
          "output_type": "execute_result",
          "data": {
            "text/plain": [
              "array([[1.4567558e-03, 9.9854326e-01],\n",
              "       [5.1978528e-05, 9.9994802e-01],\n",
              "       [3.5661332e-02, 9.6433872e-01],\n",
              "       ...,\n",
              "       [2.4052409e-02, 9.7594756e-01],\n",
              "       [6.4965396e-04, 9.9935037e-01],\n",
              "       [1.1252201e-06, 9.9999893e-01]], dtype=float32)"
            ]
          },
          "metadata": {},
          "execution_count": 30
        }
      ]
    },
    {
      "cell_type": "code",
      "source": [
        "test"
      ],
      "metadata": {
        "id": "pafrSJ1V2QDw",
        "colab": {
          "base_uri": "https://localhost:8080/",
          "height": 423
        },
        "outputId": "776afac3-41ce-4020-de64-af70c2a7d232"
      },
      "execution_count": 31,
      "outputs": [
        {
          "output_type": "execute_result",
          "data": {
            "text/html": [
              "\n",
              "  <div id=\"df-fc6bb309-e97d-47ee-a703-7fd30bf26c02\">\n",
              "    <div class=\"colab-df-container\">\n",
              "      <div>\n",
              "<style scoped>\n",
              "    .dataframe tbody tr th:only-of-type {\n",
              "        vertical-align: middle;\n",
              "    }\n",
              "\n",
              "    .dataframe tbody tr th {\n",
              "        vertical-align: top;\n",
              "    }\n",
              "\n",
              "    .dataframe thead th {\n",
              "        text-align: right;\n",
              "    }\n",
              "</style>\n",
              "<table border=\"1\" class=\"dataframe\">\n",
              "  <thead>\n",
              "    <tr style=\"text-align: right;\">\n",
              "      <th></th>\n",
              "      <th>text</th>\n",
              "      <th>label</th>\n",
              "    </tr>\n",
              "  </thead>\n",
              "  <tbody>\n",
              "    <tr>\n",
              "      <th>23146</th>\n",
              "      <td>Voodoo doughnut was cool It wasnt the doughnut...</td>\n",
              "      <td>1.0</td>\n",
              "    </tr>\n",
              "    <tr>\n",
              "      <th>27022</th>\n",
              "      <td>Simply a solid soup or sandwich place  sit dow...</td>\n",
              "      <td>1.0</td>\n",
              "    </tr>\n",
              "    <tr>\n",
              "      <th>163469</th>\n",
              "      <td>Came here for lunch quick and tasty Pricier si...</td>\n",
              "      <td>1.0</td>\n",
              "    </tr>\n",
              "    <tr>\n",
              "      <th>11507</th>\n",
              "      <td>Another underwhelming Mexican spot that has po...</td>\n",
              "      <td>1.0</td>\n",
              "    </tr>\n",
              "    <tr>\n",
              "      <th>67940</th>\n",
              "      <td>I went to this place about a year ago on a whi...</td>\n",
              "      <td>1.0</td>\n",
              "    </tr>\n",
              "    <tr>\n",
              "      <th>...</th>\n",
              "      <td>...</td>\n",
              "      <td>...</td>\n",
              "    </tr>\n",
              "    <tr>\n",
              "      <th>38537</th>\n",
              "      <td>On the day I visited they didnt have any vegan...</td>\n",
              "      <td>1.0</td>\n",
              "    </tr>\n",
              "    <tr>\n",
              "      <th>6624</th>\n",
              "      <td>Always read good reviews of this establishment...</td>\n",
              "      <td>1.0</td>\n",
              "    </tr>\n",
              "    <tr>\n",
              "      <th>144662</th>\n",
              "      <td>I dont know why I got the prime rib haaaa I ne...</td>\n",
              "      <td>1.0</td>\n",
              "    </tr>\n",
              "    <tr>\n",
              "      <th>55348</th>\n",
              "      <td>Not what I had in mind at all for Mediterranea...</td>\n",
              "      <td>1.0</td>\n",
              "    </tr>\n",
              "    <tr>\n",
              "      <th>192221</th>\n",
              "      <td>Brown sugar milk tea was good but not great Ev...</td>\n",
              "      <td>1.0</td>\n",
              "    </tr>\n",
              "  </tbody>\n",
              "</table>\n",
              "<p>39590 rows × 2 columns</p>\n",
              "</div>\n",
              "      <button class=\"colab-df-convert\" onclick=\"convertToInteractive('df-fc6bb309-e97d-47ee-a703-7fd30bf26c02')\"\n",
              "              title=\"Convert this dataframe to an interactive table.\"\n",
              "              style=\"display:none;\">\n",
              "        \n",
              "  <svg xmlns=\"http://www.w3.org/2000/svg\" height=\"24px\"viewBox=\"0 0 24 24\"\n",
              "       width=\"24px\">\n",
              "    <path d=\"M0 0h24v24H0V0z\" fill=\"none\"/>\n",
              "    <path d=\"M18.56 5.44l.94 2.06.94-2.06 2.06-.94-2.06-.94-.94-2.06-.94 2.06-2.06.94zm-11 1L8.5 8.5l.94-2.06 2.06-.94-2.06-.94L8.5 2.5l-.94 2.06-2.06.94zm10 10l.94 2.06.94-2.06 2.06-.94-2.06-.94-.94-2.06-.94 2.06-2.06.94z\"/><path d=\"M17.41 7.96l-1.37-1.37c-.4-.4-.92-.59-1.43-.59-.52 0-1.04.2-1.43.59L10.3 9.45l-7.72 7.72c-.78.78-.78 2.05 0 2.83L4 21.41c.39.39.9.59 1.41.59.51 0 1.02-.2 1.41-.59l7.78-7.78 2.81-2.81c.8-.78.8-2.07 0-2.86zM5.41 20L4 18.59l7.72-7.72 1.47 1.35L5.41 20z\"/>\n",
              "  </svg>\n",
              "      </button>\n",
              "      \n",
              "  <style>\n",
              "    .colab-df-container {\n",
              "      display:flex;\n",
              "      flex-wrap:wrap;\n",
              "      gap: 12px;\n",
              "    }\n",
              "\n",
              "    .colab-df-convert {\n",
              "      background-color: #E8F0FE;\n",
              "      border: none;\n",
              "      border-radius: 50%;\n",
              "      cursor: pointer;\n",
              "      display: none;\n",
              "      fill: #1967D2;\n",
              "      height: 32px;\n",
              "      padding: 0 0 0 0;\n",
              "      width: 32px;\n",
              "    }\n",
              "\n",
              "    .colab-df-convert:hover {\n",
              "      background-color: #E2EBFA;\n",
              "      box-shadow: 0px 1px 2px rgba(60, 64, 67, 0.3), 0px 1px 3px 1px rgba(60, 64, 67, 0.15);\n",
              "      fill: #174EA6;\n",
              "    }\n",
              "\n",
              "    [theme=dark] .colab-df-convert {\n",
              "      background-color: #3B4455;\n",
              "      fill: #D2E3FC;\n",
              "    }\n",
              "\n",
              "    [theme=dark] .colab-df-convert:hover {\n",
              "      background-color: #434B5C;\n",
              "      box-shadow: 0px 1px 3px 1px rgba(0, 0, 0, 0.15);\n",
              "      filter: drop-shadow(0px 1px 2px rgba(0, 0, 0, 0.3));\n",
              "      fill: #FFFFFF;\n",
              "    }\n",
              "  </style>\n",
              "\n",
              "      <script>\n",
              "        const buttonEl =\n",
              "          document.querySelector('#df-fc6bb309-e97d-47ee-a703-7fd30bf26c02 button.colab-df-convert');\n",
              "        buttonEl.style.display =\n",
              "          google.colab.kernel.accessAllowed ? 'block' : 'none';\n",
              "\n",
              "        async function convertToInteractive(key) {\n",
              "          const element = document.querySelector('#df-fc6bb309-e97d-47ee-a703-7fd30bf26c02');\n",
              "          const dataTable =\n",
              "            await google.colab.kernel.invokeFunction('convertToInteractive',\n",
              "                                                     [key], {});\n",
              "          if (!dataTable) return;\n",
              "\n",
              "          const docLinkHtml = 'Like what you see? Visit the ' +\n",
              "            '<a target=\"_blank\" href=https://colab.research.google.com/notebooks/data_table.ipynb>data table notebook</a>'\n",
              "            + ' to learn more about interactive tables.';\n",
              "          element.innerHTML = '';\n",
              "          dataTable['output_type'] = 'display_data';\n",
              "          await google.colab.output.renderOutput(dataTable, element);\n",
              "          const docLink = document.createElement('div');\n",
              "          docLink.innerHTML = docLinkHtml;\n",
              "          element.appendChild(docLink);\n",
              "        }\n",
              "      </script>\n",
              "    </div>\n",
              "  </div>\n",
              "  "
            ],
            "text/plain": [
              "                                                     text  label\n",
              "23146   Voodoo doughnut was cool It wasnt the doughnut...    1.0\n",
              "27022   Simply a solid soup or sandwich place  sit dow...    1.0\n",
              "163469  Came here for lunch quick and tasty Pricier si...    1.0\n",
              "11507   Another underwhelming Mexican spot that has po...    1.0\n",
              "67940   I went to this place about a year ago on a whi...    1.0\n",
              "...                                                   ...    ...\n",
              "38537   On the day I visited they didnt have any vegan...    1.0\n",
              "6624    Always read good reviews of this establishment...    1.0\n",
              "144662  I dont know why I got the prime rib haaaa I ne...    1.0\n",
              "55348   Not what I had in mind at all for Mediterranea...    1.0\n",
              "192221  Brown sugar milk tea was good but not great Ev...    1.0\n",
              "\n",
              "[39590 rows x 2 columns]"
            ]
          },
          "metadata": {},
          "execution_count": 31
        }
      ]
    },
    {
      "cell_type": "code",
      "source": [
        "y_hat = y_pred.argmax(axis = 1)[:,None]"
      ],
      "metadata": {
        "id": "hkniZGrS5CIM"
      },
      "execution_count": 36,
      "outputs": []
    },
    {
      "cell_type": "code",
      "source": [
        "y_hat"
      ],
      "metadata": {
        "id": "7xsOOIxJ5LN8",
        "colab": {
          "base_uri": "https://localhost:8080/"
        },
        "outputId": "5e19116a-add2-41ae-eb83-e4ab2cd24014"
      },
      "execution_count": 37,
      "outputs": [
        {
          "output_type": "execute_result",
          "data": {
            "text/plain": [
              "array([[1],\n",
              "       [1],\n",
              "       [1],\n",
              "       ...,\n",
              "       [1],\n",
              "       [1],\n",
              "       [1]])"
            ]
          },
          "metadata": {},
          "execution_count": 37
        }
      ]
    },
    {
      "cell_type": "code",
      "source": [
        "y_hat2 = y_hat.flatten()"
      ],
      "metadata": {
        "id": "7H0hgDjB78D5"
      },
      "execution_count": 38,
      "outputs": []
    },
    {
      "cell_type": "code",
      "source": [
        "y_hat2"
      ],
      "metadata": {
        "id": "EyKXlxY-8JDq",
        "colab": {
          "base_uri": "https://localhost:8080/"
        },
        "outputId": "b1c35199-814d-4292-e5c3-56373b217b5e"
      },
      "execution_count": 39,
      "outputs": [
        {
          "output_type": "execute_result",
          "data": {
            "text/plain": [
              "array([1, 1, 1, ..., 1, 1, 1])"
            ]
          },
          "metadata": {},
          "execution_count": 39
        }
      ]
    },
    {
      "cell_type": "code",
      "source": [
        "test.reset_index(drop=True,inplace = True)"
      ],
      "metadata": {
        "id": "K2p0yt3x6EHb"
      },
      "execution_count": 40,
      "outputs": []
    },
    {
      "cell_type": "code",
      "source": [
        "y_test = test['label']"
      ],
      "metadata": {
        "id": "f1_A5LdS6u5N"
      },
      "execution_count": 41,
      "outputs": []
    },
    {
      "cell_type": "code",
      "source": [
        "y_test = y_test.to_numpy()"
      ],
      "metadata": {
        "id": "ULJW-ErQ61cj"
      },
      "execution_count": 42,
      "outputs": []
    },
    {
      "cell_type": "code",
      "source": [
        "y_test"
      ],
      "metadata": {
        "id": "5AG_PyUL7GG3",
        "colab": {
          "base_uri": "https://localhost:8080/"
        },
        "outputId": "854bdec8-99fc-4457-9d3b-ce093f646964"
      },
      "execution_count": 43,
      "outputs": [
        {
          "output_type": "execute_result",
          "data": {
            "text/plain": [
              "array([1., 1., 1., ..., 1., 1., 1.])"
            ]
          },
          "metadata": {},
          "execution_count": 43
        }
      ]
    },
    {
      "cell_type": "code",
      "execution_count": 44,
      "metadata": {
        "id": "vUEmYqEQqEYc",
        "colab": {
          "base_uri": "https://localhost:8080/"
        },
        "outputId": "2c3b73de-a638-413b-9228-6aef02746882"
      },
      "outputs": [
        {
          "output_type": "execute_result",
          "data": {
            "text/plain": [
              "0.9640313210406668"
            ]
          },
          "metadata": {},
          "execution_count": 44
        }
      ],
      "source": [
        "accuracy_score(y_test, y_hat2)"
      ]
    },
    {
      "cell_type": "code",
      "source": [
        "from sklearn import metrics"
      ],
      "metadata": {
        "id": "1f83gNfx9Gqb"
      },
      "execution_count": 45,
      "outputs": []
    },
    {
      "cell_type": "code",
      "source": [
        "print(metrics.classification_report(y_test, y_hat2))"
      ],
      "metadata": {
        "id": "zf-S0s0A7EN-",
        "colab": {
          "base_uri": "https://localhost:8080/"
        },
        "outputId": "8cb50261-cddf-4d26-dac3-32a84b9725d6"
      },
      "execution_count": 46,
      "outputs": [
        {
          "output_type": "stream",
          "name": "stdout",
          "text": [
            "              precision    recall  f1-score   support\n",
            "\n",
            "         0.0       0.82      0.81      0.81      3883\n",
            "         1.0       0.98      0.98      0.98     35707\n",
            "\n",
            "    accuracy                           0.96     39590\n",
            "   macro avg       0.90      0.89      0.90     39590\n",
            "weighted avg       0.96      0.96      0.96     39590\n",
            "\n"
          ]
        }
      ]
    },
    {
      "cell_type": "code",
      "source": [
        ""
      ],
      "metadata": {
        "id": "bU1K-Cur2ye-"
      },
      "execution_count": null,
      "outputs": []
    }
  ],
  "metadata": {
    "colab": {
      "collapsed_sections": [],
      "name": " BERT_final_2.ipynb",
      "provenance": [],
      "mount_file_id": "17DnOVTtJ3nYbDQydzShnnBx1GoK7gWI3",
      "authorship_tag": "ABX9TyMOwXyvT45PDpbOqXfcHj6q",
      "include_colab_link": true
    },
    "kernelspec": {
      "display_name": "Python 3",
      "name": "python3"
    },
    "language_info": {
      "name": "python"
    },
    "accelerator": "GPU"
  },
  "nbformat": 4,
  "nbformat_minor": 0
}