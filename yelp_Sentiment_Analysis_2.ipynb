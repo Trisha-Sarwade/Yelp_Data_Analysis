{
  "nbformat": 4,
  "nbformat_minor": 0,
  "metadata": {
    "colab": {
      "name": "yelp_Sentiment_Analysis_2.ipynb",
      "provenance": [],
      "collapsed_sections": [],
      "mount_file_id": "1L13vqs-GrgXYwvZsybjc_Y2g12Z0FT0E",
      "authorship_tag": "ABX9TyPo3WKwLbpo3tNWrVH7lHPd",
      "include_colab_link": true
    },
    "kernelspec": {
      "name": "python3",
      "display_name": "Python 3"
    },
    "language_info": {
      "name": "python"
    }
  },
  "cells": [
    {
      "cell_type": "markdown",
      "metadata": {
        "id": "view-in-github",
        "colab_type": "text"
      },
      "source": [
        "<a href=\"https://colab.research.google.com/github/jayantc14/Yelp_Data_Analysis/blob/main/yelp_Sentiment_Analysis_2.ipynb\" target=\"_parent\"><img src=\"https://colab.research.google.com/assets/colab-badge.svg\" alt=\"Open In Colab\"/></a>"
      ]
    },
    {
      "cell_type": "code",
      "metadata": {
        "id": "sDfNz-jm4bfO"
      },
      "source": [
        "import pandas as pd"
      ],
      "execution_count": null,
      "outputs": []
    },
    {
      "cell_type": "code",
      "metadata": {
        "id": "1IVLAN9y4nRp"
      },
      "source": [
        "df = pd.read_csv(\"/content/drive/MyDrive/yelp_dataset/yelp_3cities_refined.csv\")"
      ],
      "execution_count": null,
      "outputs": []
    },
    {
      "cell_type": "code",
      "metadata": {
        "id": "AcKWw9p747i_"
      },
      "source": [
        "mydata = df"
      ],
      "execution_count": null,
      "outputs": []
    },
    {
      "cell_type": "code",
      "metadata": {
        "colab": {
          "base_uri": "https://localhost:8080/",
          "height": 206
        },
        "id": "6RsSL9_45n6S",
        "outputId": "273447c0-a71f-4cb8-8ab3-a553efbe71d0"
      },
      "source": [
        "# Define a function to clean the text\n",
        "import re\n",
        "def clean(text):\n",
        "# Removes all special characters and numericals leaving the alphabets\n",
        "    text = re.sub('[^A-Za-z]+', ' ', text)\n",
        "    return text\n",
        "\n",
        "# Cleaning the text in the review column\n",
        "mydata['Cleaned Reviews'] = mydata['text'].apply(clean)\n",
        "mydata.head()"
      ],
      "execution_count": null,
      "outputs": [
        {
          "output_type": "execute_result",
          "data": {
            "text/html": [
              "<div>\n",
              "<style scoped>\n",
              "    .dataframe tbody tr th:only-of-type {\n",
              "        vertical-align: middle;\n",
              "    }\n",
              "\n",
              "    .dataframe tbody tr th {\n",
              "        vertical-align: top;\n",
              "    }\n",
              "\n",
              "    .dataframe thead th {\n",
              "        text-align: right;\n",
              "    }\n",
              "</style>\n",
              "<table border=\"1\" class=\"dataframe\">\n",
              "  <thead>\n",
              "    <tr style=\"text-align: right;\">\n",
              "      <th></th>\n",
              "      <th>business_id</th>\n",
              "      <th>user_id</th>\n",
              "      <th>review_stars</th>\n",
              "      <th>useful_x</th>\n",
              "      <th>text</th>\n",
              "      <th>date</th>\n",
              "      <th>Cleaned Reviews</th>\n",
              "    </tr>\n",
              "  </thead>\n",
              "  <tbody>\n",
              "    <tr>\n",
              "      <th>0</th>\n",
              "      <td>Kv85DtmBK14Is2YRf7LDIQ</td>\n",
              "      <td>I-0Be1dHEacp293TeRUDpw</td>\n",
              "      <td>5</td>\n",
              "      <td>0</td>\n",
              "      <td>Wow- the best sandwich I've had in a very long...</td>\n",
              "      <td>2019-01-22 00:53:22</td>\n",
              "      <td>Wow the best sandwich I ve had in a very long ...</td>\n",
              "    </tr>\n",
              "    <tr>\n",
              "      <th>1</th>\n",
              "      <td>6DwR5rF1s6fJn4f-Lvfbuw</td>\n",
              "      <td>I-0Be1dHEacp293TeRUDpw</td>\n",
              "      <td>5</td>\n",
              "      <td>0</td>\n",
              "      <td>Everything from the food to the drinks to the ...</td>\n",
              "      <td>2019-06-22 05:00:12</td>\n",
              "      <td>Everything from the food to the drinks to the ...</td>\n",
              "    </tr>\n",
              "    <tr>\n",
              "      <th>2</th>\n",
              "      <td>BvpABPKyg0w54Xnrt_Ifrg</td>\n",
              "      <td>I-0Be1dHEacp293TeRUDpw</td>\n",
              "      <td>5</td>\n",
              "      <td>0</td>\n",
              "      <td>Absolutely delicious coffee in rapidly changin...</td>\n",
              "      <td>2020-03-08 19:55:43</td>\n",
              "      <td>Absolutely delicious coffee in rapidly changin...</td>\n",
              "    </tr>\n",
              "    <tr>\n",
              "      <th>3</th>\n",
              "      <td>FznRWr68zgIV-SkOGNveow</td>\n",
              "      <td>I-0Be1dHEacp293TeRUDpw</td>\n",
              "      <td>5</td>\n",
              "      <td>0</td>\n",
              "      <td>The owner and staff are incredibly sweet and k...</td>\n",
              "      <td>2020-03-14 18:24:31</td>\n",
              "      <td>The owner and staff are incredibly sweet and k...</td>\n",
              "    </tr>\n",
              "    <tr>\n",
              "      <th>4</th>\n",
              "      <td>MRYWsqLbAkPzdKgHeSepZA</td>\n",
              "      <td>I-0Be1dHEacp293TeRUDpw</td>\n",
              "      <td>5</td>\n",
              "      <td>0</td>\n",
              "      <td>Such a tasty burrito and the salas are tasty. ...</td>\n",
              "      <td>2020-12-03 02:47:14</td>\n",
              "      <td>Such a tasty burrito and the salas are tasty D...</td>\n",
              "    </tr>\n",
              "  </tbody>\n",
              "</table>\n",
              "</div>"
            ],
            "text/plain": [
              "              business_id  ...                                    Cleaned Reviews\n",
              "0  Kv85DtmBK14Is2YRf7LDIQ  ...  Wow the best sandwich I ve had in a very long ...\n",
              "1  6DwR5rF1s6fJn4f-Lvfbuw  ...  Everything from the food to the drinks to the ...\n",
              "2  BvpABPKyg0w54Xnrt_Ifrg  ...  Absolutely delicious coffee in rapidly changin...\n",
              "3  FznRWr68zgIV-SkOGNveow  ...  The owner and staff are incredibly sweet and k...\n",
              "4  MRYWsqLbAkPzdKgHeSepZA  ...  Such a tasty burrito and the salas are tasty D...\n",
              "\n",
              "[5 rows x 7 columns]"
            ]
          },
          "metadata": {},
          "execution_count": 6
        }
      ]
    },
    {
      "cell_type": "code",
      "metadata": {
        "colab": {
          "base_uri": "https://localhost:8080/"
        },
        "id": "O5WKF1GNQLsS",
        "outputId": "c5621e2d-8b76-4694-956d-f64bf41a7ec9"
      },
      "source": [
        "import nltk\n",
        "nltk.download('all')"
      ],
      "execution_count": null,
      "outputs": [
        {
          "output_type": "stream",
          "name": "stdout",
          "text": [
            "[nltk_data] Downloading collection 'all'\n",
            "[nltk_data]    | \n",
            "[nltk_data]    | Downloading package abc to /root/nltk_data...\n",
            "[nltk_data]    |   Unzipping corpora/abc.zip.\n",
            "[nltk_data]    | Downloading package alpino to /root/nltk_data...\n",
            "[nltk_data]    |   Unzipping corpora/alpino.zip.\n",
            "[nltk_data]    | Downloading package biocreative_ppi to\n",
            "[nltk_data]    |     /root/nltk_data...\n",
            "[nltk_data]    |   Unzipping corpora/biocreative_ppi.zip.\n",
            "[nltk_data]    | Downloading package brown to /root/nltk_data...\n",
            "[nltk_data]    |   Unzipping corpora/brown.zip.\n",
            "[nltk_data]    | Downloading package brown_tei to /root/nltk_data...\n",
            "[nltk_data]    |   Unzipping corpora/brown_tei.zip.\n",
            "[nltk_data]    | Downloading package cess_cat to /root/nltk_data...\n",
            "[nltk_data]    |   Unzipping corpora/cess_cat.zip.\n",
            "[nltk_data]    | Downloading package cess_esp to /root/nltk_data...\n",
            "[nltk_data]    |   Unzipping corpora/cess_esp.zip.\n",
            "[nltk_data]    | Downloading package chat80 to /root/nltk_data...\n",
            "[nltk_data]    |   Unzipping corpora/chat80.zip.\n",
            "[nltk_data]    | Downloading package city_database to\n",
            "[nltk_data]    |     /root/nltk_data...\n",
            "[nltk_data]    |   Unzipping corpora/city_database.zip.\n",
            "[nltk_data]    | Downloading package cmudict to /root/nltk_data...\n",
            "[nltk_data]    |   Unzipping corpora/cmudict.zip.\n",
            "[nltk_data]    | Downloading package comparative_sentences to\n",
            "[nltk_data]    |     /root/nltk_data...\n",
            "[nltk_data]    |   Unzipping corpora/comparative_sentences.zip.\n",
            "[nltk_data]    | Downloading package comtrans to /root/nltk_data...\n",
            "[nltk_data]    | Downloading package conll2000 to /root/nltk_data...\n",
            "[nltk_data]    |   Unzipping corpora/conll2000.zip.\n",
            "[nltk_data]    | Downloading package conll2002 to /root/nltk_data...\n",
            "[nltk_data]    |   Unzipping corpora/conll2002.zip.\n",
            "[nltk_data]    | Downloading package conll2007 to /root/nltk_data...\n",
            "[nltk_data]    | Downloading package crubadan to /root/nltk_data...\n",
            "[nltk_data]    |   Unzipping corpora/crubadan.zip.\n",
            "[nltk_data]    | Downloading package dependency_treebank to\n",
            "[nltk_data]    |     /root/nltk_data...\n",
            "[nltk_data]    |   Unzipping corpora/dependency_treebank.zip.\n",
            "[nltk_data]    | Downloading package dolch to /root/nltk_data...\n",
            "[nltk_data]    |   Unzipping corpora/dolch.zip.\n",
            "[nltk_data]    | Downloading package europarl_raw to\n",
            "[nltk_data]    |     /root/nltk_data...\n",
            "[nltk_data]    |   Unzipping corpora/europarl_raw.zip.\n",
            "[nltk_data]    | Downloading package floresta to /root/nltk_data...\n",
            "[nltk_data]    |   Unzipping corpora/floresta.zip.\n",
            "[nltk_data]    | Downloading package framenet_v15 to\n",
            "[nltk_data]    |     /root/nltk_data...\n",
            "[nltk_data]    |   Unzipping corpora/framenet_v15.zip.\n",
            "[nltk_data]    | Downloading package framenet_v17 to\n",
            "[nltk_data]    |     /root/nltk_data...\n",
            "[nltk_data]    |   Unzipping corpora/framenet_v17.zip.\n",
            "[nltk_data]    | Downloading package gazetteers to /root/nltk_data...\n",
            "[nltk_data]    |   Unzipping corpora/gazetteers.zip.\n",
            "[nltk_data]    | Downloading package genesis to /root/nltk_data...\n",
            "[nltk_data]    |   Unzipping corpora/genesis.zip.\n",
            "[nltk_data]    | Downloading package gutenberg to /root/nltk_data...\n",
            "[nltk_data]    |   Unzipping corpora/gutenberg.zip.\n",
            "[nltk_data]    | Downloading package ieer to /root/nltk_data...\n",
            "[nltk_data]    |   Unzipping corpora/ieer.zip.\n",
            "[nltk_data]    | Downloading package inaugural to /root/nltk_data...\n",
            "[nltk_data]    |   Unzipping corpora/inaugural.zip.\n",
            "[nltk_data]    | Downloading package indian to /root/nltk_data...\n",
            "[nltk_data]    |   Unzipping corpora/indian.zip.\n",
            "[nltk_data]    | Downloading package jeita to /root/nltk_data...\n",
            "[nltk_data]    | Downloading package kimmo to /root/nltk_data...\n",
            "[nltk_data]    |   Unzipping corpora/kimmo.zip.\n",
            "[nltk_data]    | Downloading package knbc to /root/nltk_data...\n",
            "[nltk_data]    | Downloading package lin_thesaurus to\n",
            "[nltk_data]    |     /root/nltk_data...\n",
            "[nltk_data]    |   Unzipping corpora/lin_thesaurus.zip.\n",
            "[nltk_data]    | Downloading package mac_morpho to /root/nltk_data...\n",
            "[nltk_data]    |   Unzipping corpora/mac_morpho.zip.\n",
            "[nltk_data]    | Downloading package machado to /root/nltk_data...\n",
            "[nltk_data]    | Downloading package masc_tagged to /root/nltk_data...\n",
            "[nltk_data]    | Downloading package moses_sample to\n",
            "[nltk_data]    |     /root/nltk_data...\n",
            "[nltk_data]    |   Unzipping models/moses_sample.zip.\n",
            "[nltk_data]    | Downloading package movie_reviews to\n",
            "[nltk_data]    |     /root/nltk_data...\n",
            "[nltk_data]    |   Unzipping corpora/movie_reviews.zip.\n",
            "[nltk_data]    | Downloading package names to /root/nltk_data...\n",
            "[nltk_data]    |   Unzipping corpora/names.zip.\n",
            "[nltk_data]    | Downloading package nombank.1.0 to /root/nltk_data...\n",
            "[nltk_data]    | Downloading package nps_chat to /root/nltk_data...\n",
            "[nltk_data]    |   Unzipping corpora/nps_chat.zip.\n",
            "[nltk_data]    | Downloading package omw to /root/nltk_data...\n",
            "[nltk_data]    |   Unzipping corpora/omw.zip.\n",
            "[nltk_data]    | Downloading package opinion_lexicon to\n",
            "[nltk_data]    |     /root/nltk_data...\n",
            "[nltk_data]    |   Unzipping corpora/opinion_lexicon.zip.\n",
            "[nltk_data]    | Downloading package paradigms to /root/nltk_data...\n",
            "[nltk_data]    |   Unzipping corpora/paradigms.zip.\n",
            "[nltk_data]    | Downloading package pil to /root/nltk_data...\n",
            "[nltk_data]    |   Unzipping corpora/pil.zip.\n",
            "[nltk_data]    | Downloading package pl196x to /root/nltk_data...\n",
            "[nltk_data]    |   Unzipping corpora/pl196x.zip.\n",
            "[nltk_data]    | Downloading package ppattach to /root/nltk_data...\n",
            "[nltk_data]    |   Unzipping corpora/ppattach.zip.\n",
            "[nltk_data]    | Downloading package problem_reports to\n",
            "[nltk_data]    |     /root/nltk_data...\n",
            "[nltk_data]    |   Unzipping corpora/problem_reports.zip.\n",
            "[nltk_data]    | Downloading package propbank to /root/nltk_data...\n",
            "[nltk_data]    | Downloading package ptb to /root/nltk_data...\n",
            "[nltk_data]    |   Unzipping corpora/ptb.zip.\n",
            "[nltk_data]    | Downloading package product_reviews_1 to\n",
            "[nltk_data]    |     /root/nltk_data...\n",
            "[nltk_data]    |   Unzipping corpora/product_reviews_1.zip.\n",
            "[nltk_data]    | Downloading package product_reviews_2 to\n",
            "[nltk_data]    |     /root/nltk_data...\n",
            "[nltk_data]    |   Unzipping corpora/product_reviews_2.zip.\n",
            "[nltk_data]    | Downloading package pros_cons to /root/nltk_data...\n",
            "[nltk_data]    |   Unzipping corpora/pros_cons.zip.\n",
            "[nltk_data]    | Downloading package qc to /root/nltk_data...\n",
            "[nltk_data]    |   Unzipping corpora/qc.zip.\n",
            "[nltk_data]    | Downloading package reuters to /root/nltk_data...\n",
            "[nltk_data]    | Downloading package rte to /root/nltk_data...\n",
            "[nltk_data]    |   Unzipping corpora/rte.zip.\n",
            "[nltk_data]    | Downloading package semcor to /root/nltk_data...\n",
            "[nltk_data]    | Downloading package senseval to /root/nltk_data...\n",
            "[nltk_data]    |   Unzipping corpora/senseval.zip.\n",
            "[nltk_data]    | Downloading package sentiwordnet to\n",
            "[nltk_data]    |     /root/nltk_data...\n",
            "[nltk_data]    |   Unzipping corpora/sentiwordnet.zip.\n",
            "[nltk_data]    | Downloading package sentence_polarity to\n",
            "[nltk_data]    |     /root/nltk_data...\n",
            "[nltk_data]    |   Unzipping corpora/sentence_polarity.zip.\n",
            "[nltk_data]    | Downloading package shakespeare to /root/nltk_data...\n",
            "[nltk_data]    |   Unzipping corpora/shakespeare.zip.\n",
            "[nltk_data]    | Downloading package sinica_treebank to\n",
            "[nltk_data]    |     /root/nltk_data...\n",
            "[nltk_data]    |   Unzipping corpora/sinica_treebank.zip.\n",
            "[nltk_data]    | Downloading package smultron to /root/nltk_data...\n",
            "[nltk_data]    |   Unzipping corpora/smultron.zip.\n",
            "[nltk_data]    | Downloading package state_union to /root/nltk_data...\n",
            "[nltk_data]    |   Unzipping corpora/state_union.zip.\n",
            "[nltk_data]    | Downloading package stopwords to /root/nltk_data...\n",
            "[nltk_data]    |   Package stopwords is already up-to-date!\n",
            "[nltk_data]    | Downloading package subjectivity to\n",
            "[nltk_data]    |     /root/nltk_data...\n",
            "[nltk_data]    |   Unzipping corpora/subjectivity.zip.\n",
            "[nltk_data]    | Downloading package swadesh to /root/nltk_data...\n",
            "[nltk_data]    |   Unzipping corpora/swadesh.zip.\n",
            "[nltk_data]    | Downloading package switchboard to /root/nltk_data...\n",
            "[nltk_data]    |   Unzipping corpora/switchboard.zip.\n",
            "[nltk_data]    | Downloading package timit to /root/nltk_data...\n",
            "[nltk_data]    |   Unzipping corpora/timit.zip.\n",
            "[nltk_data]    | Downloading package toolbox to /root/nltk_data...\n",
            "[nltk_data]    |   Unzipping corpora/toolbox.zip.\n",
            "[nltk_data]    | Downloading package treebank to /root/nltk_data...\n",
            "[nltk_data]    |   Unzipping corpora/treebank.zip.\n",
            "[nltk_data]    | Downloading package twitter_samples to\n",
            "[nltk_data]    |     /root/nltk_data...\n",
            "[nltk_data]    |   Unzipping corpora/twitter_samples.zip.\n",
            "[nltk_data]    | Downloading package udhr to /root/nltk_data...\n",
            "[nltk_data]    |   Unzipping corpora/udhr.zip.\n",
            "[nltk_data]    | Downloading package udhr2 to /root/nltk_data...\n",
            "[nltk_data]    |   Unzipping corpora/udhr2.zip.\n",
            "[nltk_data]    | Downloading package unicode_samples to\n",
            "[nltk_data]    |     /root/nltk_data...\n",
            "[nltk_data]    |   Unzipping corpora/unicode_samples.zip.\n",
            "[nltk_data]    | Downloading package universal_treebanks_v20 to\n",
            "[nltk_data]    |     /root/nltk_data...\n",
            "[nltk_data]    | Downloading package verbnet to /root/nltk_data...\n",
            "[nltk_data]    |   Unzipping corpora/verbnet.zip.\n",
            "[nltk_data]    | Downloading package verbnet3 to /root/nltk_data...\n",
            "[nltk_data]    |   Unzipping corpora/verbnet3.zip.\n",
            "[nltk_data]    | Downloading package webtext to /root/nltk_data...\n",
            "[nltk_data]    |   Unzipping corpora/webtext.zip.\n",
            "[nltk_data]    | Downloading package wordnet to /root/nltk_data...\n",
            "[nltk_data]    |   Package wordnet is already up-to-date!\n",
            "[nltk_data]    | Downloading package wordnet31 to /root/nltk_data...\n",
            "[nltk_data]    |   Unzipping corpora/wordnet31.zip.\n",
            "[nltk_data]    | Downloading package wordnet_ic to /root/nltk_data...\n",
            "[nltk_data]    |   Unzipping corpora/wordnet_ic.zip.\n",
            "[nltk_data]    | Downloading package words to /root/nltk_data...\n",
            "[nltk_data]    |   Unzipping corpora/words.zip.\n",
            "[nltk_data]    | Downloading package ycoe to /root/nltk_data...\n",
            "[nltk_data]    |   Unzipping corpora/ycoe.zip.\n",
            "[nltk_data]    | Downloading package rslp to /root/nltk_data...\n",
            "[nltk_data]    |   Unzipping stemmers/rslp.zip.\n",
            "[nltk_data]    | Downloading package maxent_treebank_pos_tagger to\n",
            "[nltk_data]    |     /root/nltk_data...\n",
            "[nltk_data]    |   Unzipping taggers/maxent_treebank_pos_tagger.zip.\n",
            "[nltk_data]    | Downloading package universal_tagset to\n",
            "[nltk_data]    |     /root/nltk_data...\n",
            "[nltk_data]    |   Unzipping taggers/universal_tagset.zip.\n",
            "[nltk_data]    | Downloading package maxent_ne_chunker to\n",
            "[nltk_data]    |     /root/nltk_data...\n",
            "[nltk_data]    |   Unzipping chunkers/maxent_ne_chunker.zip.\n",
            "[nltk_data]    | Downloading package punkt to /root/nltk_data...\n",
            "[nltk_data]    |   Package punkt is already up-to-date!\n",
            "[nltk_data]    | Downloading package book_grammars to\n",
            "[nltk_data]    |     /root/nltk_data...\n",
            "[nltk_data]    |   Unzipping grammars/book_grammars.zip.\n",
            "[nltk_data]    | Downloading package sample_grammars to\n",
            "[nltk_data]    |     /root/nltk_data...\n",
            "[nltk_data]    |   Unzipping grammars/sample_grammars.zip.\n",
            "[nltk_data]    | Downloading package spanish_grammars to\n",
            "[nltk_data]    |     /root/nltk_data...\n",
            "[nltk_data]    |   Unzipping grammars/spanish_grammars.zip.\n",
            "[nltk_data]    | Downloading package basque_grammars to\n",
            "[nltk_data]    |     /root/nltk_data...\n",
            "[nltk_data]    |   Unzipping grammars/basque_grammars.zip.\n",
            "[nltk_data]    | Downloading package large_grammars to\n",
            "[nltk_data]    |     /root/nltk_data...\n",
            "[nltk_data]    |   Unzipping grammars/large_grammars.zip.\n",
            "[nltk_data]    | Downloading package tagsets to /root/nltk_data...\n",
            "[nltk_data]    |   Unzipping help/tagsets.zip.\n",
            "[nltk_data]    | Downloading package snowball_data to\n",
            "[nltk_data]    |     /root/nltk_data...\n",
            "[nltk_data]    | Downloading package bllip_wsj_no_aux to\n",
            "[nltk_data]    |     /root/nltk_data...\n",
            "[nltk_data]    |   Unzipping models/bllip_wsj_no_aux.zip.\n",
            "[nltk_data]    | Downloading package word2vec_sample to\n",
            "[nltk_data]    |     /root/nltk_data...\n",
            "[nltk_data]    |   Unzipping models/word2vec_sample.zip.\n",
            "[nltk_data]    | Downloading package panlex_swadesh to\n",
            "[nltk_data]    |     /root/nltk_data...\n",
            "[nltk_data]    | Downloading package mte_teip5 to /root/nltk_data...\n",
            "[nltk_data]    |   Unzipping corpora/mte_teip5.zip.\n",
            "[nltk_data]    | Downloading package averaged_perceptron_tagger to\n",
            "[nltk_data]    |     /root/nltk_data...\n",
            "[nltk_data]    |   Unzipping taggers/averaged_perceptron_tagger.zip.\n",
            "[nltk_data]    | Downloading package averaged_perceptron_tagger_ru to\n",
            "[nltk_data]    |     /root/nltk_data...\n",
            "[nltk_data]    |   Unzipping\n",
            "[nltk_data]    |       taggers/averaged_perceptron_tagger_ru.zip.\n",
            "[nltk_data]    | Downloading package perluniprops to\n",
            "[nltk_data]    |     /root/nltk_data...\n",
            "[nltk_data]    |   Unzipping misc/perluniprops.zip.\n",
            "[nltk_data]    | Downloading package nonbreaking_prefixes to\n",
            "[nltk_data]    |     /root/nltk_data...\n",
            "[nltk_data]    |   Unzipping corpora/nonbreaking_prefixes.zip.\n",
            "[nltk_data]    | Downloading package vader_lexicon to\n",
            "[nltk_data]    |     /root/nltk_data...\n",
            "[nltk_data]    | Downloading package porter_test to /root/nltk_data...\n",
            "[nltk_data]    |   Unzipping stemmers/porter_test.zip.\n",
            "[nltk_data]    | Downloading package wmt15_eval to /root/nltk_data...\n",
            "[nltk_data]    |   Unzipping models/wmt15_eval.zip.\n",
            "[nltk_data]    | Downloading package mwa_ppdb to /root/nltk_data...\n",
            "[nltk_data]    |   Unzipping misc/mwa_ppdb.zip.\n",
            "[nltk_data]    | \n",
            "[nltk_data]  Done downloading collection all\n"
          ]
        },
        {
          "output_type": "execute_result",
          "data": {
            "text/plain": [
              "True"
            ]
          },
          "metadata": {},
          "execution_count": 9
        }
      ]
    },
    {
      "cell_type": "code",
      "metadata": {
        "colab": {
          "base_uri": "https://localhost:8080/",
          "height": 397
        },
        "id": "s59801HB5sct",
        "outputId": "7e8b24a1-d15c-4b67-d2b9-6cd83094f3fb"
      },
      "source": [
        "import nltk\n",
        "nltk.download('punkt')\n",
        "from nltk.tokenize import word_tokenize\n",
        "from nltk import pos_tag\n",
        "nltk.download('stopwords')\n",
        "from nltk.corpus import stopwords\n",
        "nltk.download('wordnet')\n",
        "from nltk.corpus import wordnet\n",
        "\n",
        "# POS tagger dictionary\n",
        "pos_dict = {'J':wordnet.ADJ, 'V':wordnet.VERB, 'N':wordnet.NOUN, 'R':wordnet.ADV}\n",
        "def token_stop_pos(text):\n",
        "    tags = pos_tag(word_tokenize(text))\n",
        "    newlist = []\n",
        "    for word, tag in tags:\n",
        "        if word.lower() not in set(stopwords.words('english')):\n",
        "            newlist.append(tuple([word, pos_dict.get(tag[0])]))\n",
        "    return newlist\n",
        "\n",
        "mydata['POS tagged'] = mydata['Cleaned Reviews'].apply(token_stop_pos)\n",
        "mydata.head()"
      ],
      "execution_count": null,
      "outputs": [
        {
          "output_type": "stream",
          "name": "stdout",
          "text": [
            "[nltk_data] Downloading package punkt to /root/nltk_data...\n",
            "[nltk_data]   Package punkt is already up-to-date!\n",
            "[nltk_data] Downloading package stopwords to /root/nltk_data...\n",
            "[nltk_data]   Package stopwords is already up-to-date!\n",
            "[nltk_data] Downloading package wordnet to /root/nltk_data...\n",
            "[nltk_data]   Package wordnet is already up-to-date!\n"
          ]
        },
        {
          "output_type": "execute_result",
          "data": {
            "text/html": [
              "<div>\n",
              "<style scoped>\n",
              "    .dataframe tbody tr th:only-of-type {\n",
              "        vertical-align: middle;\n",
              "    }\n",
              "\n",
              "    .dataframe tbody tr th {\n",
              "        vertical-align: top;\n",
              "    }\n",
              "\n",
              "    .dataframe thead th {\n",
              "        text-align: right;\n",
              "    }\n",
              "</style>\n",
              "<table border=\"1\" class=\"dataframe\">\n",
              "  <thead>\n",
              "    <tr style=\"text-align: right;\">\n",
              "      <th></th>\n",
              "      <th>business_id</th>\n",
              "      <th>user_id</th>\n",
              "      <th>review_stars</th>\n",
              "      <th>useful_x</th>\n",
              "      <th>text</th>\n",
              "      <th>date</th>\n",
              "      <th>Cleaned Reviews</th>\n",
              "      <th>POS tagged</th>\n",
              "    </tr>\n",
              "  </thead>\n",
              "  <tbody>\n",
              "    <tr>\n",
              "      <th>0</th>\n",
              "      <td>Kv85DtmBK14Is2YRf7LDIQ</td>\n",
              "      <td>I-0Be1dHEacp293TeRUDpw</td>\n",
              "      <td>5</td>\n",
              "      <td>0</td>\n",
              "      <td>Wow- the best sandwich I've had in a very long...</td>\n",
              "      <td>2019-01-22 00:53:22</td>\n",
              "      <td>Wow the best sandwich I ve had in a very long ...</td>\n",
              "      <td>[(Wow, None), (best, a), (sandwich, n), (long,...</td>\n",
              "    </tr>\n",
              "    <tr>\n",
              "      <th>1</th>\n",
              "      <td>6DwR5rF1s6fJn4f-Lvfbuw</td>\n",
              "      <td>I-0Be1dHEacp293TeRUDpw</td>\n",
              "      <td>5</td>\n",
              "      <td>0</td>\n",
              "      <td>Everything from the food to the drinks to the ...</td>\n",
              "      <td>2019-06-22 05:00:12</td>\n",
              "      <td>Everything from the food to the drinks to the ...</td>\n",
              "      <td>[(Everything, n), (food, n), (drinks, n), (ser...</td>\n",
              "    </tr>\n",
              "    <tr>\n",
              "      <th>2</th>\n",
              "      <td>BvpABPKyg0w54Xnrt_Ifrg</td>\n",
              "      <td>I-0Be1dHEacp293TeRUDpw</td>\n",
              "      <td>5</td>\n",
              "      <td>0</td>\n",
              "      <td>Absolutely delicious coffee in rapidly changin...</td>\n",
              "      <td>2020-03-08 19:55:43</td>\n",
              "      <td>Absolutely delicious coffee in rapidly changin...</td>\n",
              "      <td>[(Absolutely, r), (delicious, a), (coffee, n),...</td>\n",
              "    </tr>\n",
              "    <tr>\n",
              "      <th>3</th>\n",
              "      <td>FznRWr68zgIV-SkOGNveow</td>\n",
              "      <td>I-0Be1dHEacp293TeRUDpw</td>\n",
              "      <td>5</td>\n",
              "      <td>0</td>\n",
              "      <td>The owner and staff are incredibly sweet and k...</td>\n",
              "      <td>2020-03-14 18:24:31</td>\n",
              "      <td>The owner and staff are incredibly sweet and k...</td>\n",
              "      <td>[(owner, n), (staff, n), (incredibly, r), (swe...</td>\n",
              "    </tr>\n",
              "    <tr>\n",
              "      <th>4</th>\n",
              "      <td>MRYWsqLbAkPzdKgHeSepZA</td>\n",
              "      <td>I-0Be1dHEacp293TeRUDpw</td>\n",
              "      <td>5</td>\n",
              "      <td>0</td>\n",
              "      <td>Such a tasty burrito and the salas are tasty. ...</td>\n",
              "      <td>2020-12-03 02:47:14</td>\n",
              "      <td>Such a tasty burrito and the salas are tasty D...</td>\n",
              "      <td>[(tasty, a), (burrito, n), (salas, n), (tasty,...</td>\n",
              "    </tr>\n",
              "  </tbody>\n",
              "</table>\n",
              "</div>"
            ],
            "text/plain": [
              "              business_id  ...                                         POS tagged\n",
              "0  Kv85DtmBK14Is2YRf7LDIQ  ...  [(Wow, None), (best, a), (sandwich, n), (long,...\n",
              "1  6DwR5rF1s6fJn4f-Lvfbuw  ...  [(Everything, n), (food, n), (drinks, n), (ser...\n",
              "2  BvpABPKyg0w54Xnrt_Ifrg  ...  [(Absolutely, r), (delicious, a), (coffee, n),...\n",
              "3  FznRWr68zgIV-SkOGNveow  ...  [(owner, n), (staff, n), (incredibly, r), (swe...\n",
              "4  MRYWsqLbAkPzdKgHeSepZA  ...  [(tasty, a), (burrito, n), (salas, n), (tasty,...\n",
              "\n",
              "[5 rows x 8 columns]"
            ]
          },
          "metadata": {},
          "execution_count": 10
        }
      ]
    },
    {
      "cell_type": "markdown",
      "metadata": {
        "id": "YorTV0E1RKNY"
      },
      "source": [
        "**Text Blob**"
      ]
    },
    {
      "cell_type": "code",
      "metadata": {
        "colab": {
          "base_uri": "https://localhost:8080/",
          "height": 293
        },
        "id": "nvdxdXJNP-6A",
        "outputId": "fd0cd901-f057-4f5d-8106-81ac635d6b25"
      },
      "source": [
        "from nltk.stem import WordNetLemmatizer\n",
        "wordnet_lemmatizer = WordNetLemmatizer()\n",
        "def lemmatize(pos_data):\n",
        "    lemma_rew = \" \"\n",
        "    for word, pos in pos_data:\n",
        "        if not pos:\n",
        "            lemma = word\n",
        "            lemma_rew = lemma_rew + \" \" + lemma\n",
        "        else:\n",
        "            lemma = wordnet_lemmatizer.lemmatize(word, pos=pos)\n",
        "            lemma_rew = lemma_rew + \" \" + lemma\n",
        "    return lemma_rew\n",
        "\n",
        "mydata['Lemma'] = mydata['POS tagged'].apply(lemmatize)\n",
        "mydata.head()"
      ],
      "execution_count": null,
      "outputs": [
        {
          "output_type": "execute_result",
          "data": {
            "text/html": [
              "<div>\n",
              "<style scoped>\n",
              "    .dataframe tbody tr th:only-of-type {\n",
              "        vertical-align: middle;\n",
              "    }\n",
              "\n",
              "    .dataframe tbody tr th {\n",
              "        vertical-align: top;\n",
              "    }\n",
              "\n",
              "    .dataframe thead th {\n",
              "        text-align: right;\n",
              "    }\n",
              "</style>\n",
              "<table border=\"1\" class=\"dataframe\">\n",
              "  <thead>\n",
              "    <tr style=\"text-align: right;\">\n",
              "      <th></th>\n",
              "      <th>business_id</th>\n",
              "      <th>user_id</th>\n",
              "      <th>review_stars</th>\n",
              "      <th>useful_x</th>\n",
              "      <th>text</th>\n",
              "      <th>date</th>\n",
              "      <th>Cleaned Reviews</th>\n",
              "      <th>POS tagged</th>\n",
              "      <th>Lemma</th>\n",
              "    </tr>\n",
              "  </thead>\n",
              "  <tbody>\n",
              "    <tr>\n",
              "      <th>0</th>\n",
              "      <td>Kv85DtmBK14Is2YRf7LDIQ</td>\n",
              "      <td>I-0Be1dHEacp293TeRUDpw</td>\n",
              "      <td>5</td>\n",
              "      <td>0</td>\n",
              "      <td>Wow- the best sandwich I've had in a very long...</td>\n",
              "      <td>2019-01-22 00:53:22</td>\n",
              "      <td>Wow the best sandwich I ve had in a very long ...</td>\n",
              "      <td>[(Wow, None), (best, a), (sandwich, n), (long,...</td>\n",
              "      <td>Wow best sandwich long time unbelievably goo...</td>\n",
              "    </tr>\n",
              "    <tr>\n",
              "      <th>1</th>\n",
              "      <td>6DwR5rF1s6fJn4f-Lvfbuw</td>\n",
              "      <td>I-0Be1dHEacp293TeRUDpw</td>\n",
              "      <td>5</td>\n",
              "      <td>0</td>\n",
              "      <td>Everything from the food to the drinks to the ...</td>\n",
              "      <td>2019-06-22 05:00:12</td>\n",
              "      <td>Everything from the food to the drinks to the ...</td>\n",
              "      <td>[(Everything, n), (food, n), (drinks, n), (ser...</td>\n",
              "      <td>Everything food drink service exceptional Wo...</td>\n",
              "    </tr>\n",
              "    <tr>\n",
              "      <th>2</th>\n",
              "      <td>BvpABPKyg0w54Xnrt_Ifrg</td>\n",
              "      <td>I-0Be1dHEacp293TeRUDpw</td>\n",
              "      <td>5</td>\n",
              "      <td>0</td>\n",
              "      <td>Absolutely delicious coffee in rapidly changin...</td>\n",
              "      <td>2020-03-08 19:55:43</td>\n",
              "      <td>Absolutely delicious coffee in rapidly changin...</td>\n",
              "      <td>[(Absolutely, r), (delicious, a), (coffee, n),...</td>\n",
              "      <td>Absolutely delicious coffee rapidly change i...</td>\n",
              "    </tr>\n",
              "    <tr>\n",
              "      <th>3</th>\n",
              "      <td>FznRWr68zgIV-SkOGNveow</td>\n",
              "      <td>I-0Be1dHEacp293TeRUDpw</td>\n",
              "      <td>5</td>\n",
              "      <td>0</td>\n",
              "      <td>The owner and staff are incredibly sweet and k...</td>\n",
              "      <td>2020-03-14 18:24:31</td>\n",
              "      <td>The owner and staff are incredibly sweet and k...</td>\n",
              "      <td>[(owner, n), (staff, n), (incredibly, r), (swe...</td>\n",
              "      <td>owner staff incredibly sweet knowledgeable F...</td>\n",
              "    </tr>\n",
              "    <tr>\n",
              "      <th>4</th>\n",
              "      <td>MRYWsqLbAkPzdKgHeSepZA</td>\n",
              "      <td>I-0Be1dHEacp293TeRUDpw</td>\n",
              "      <td>5</td>\n",
              "      <td>0</td>\n",
              "      <td>Such a tasty burrito and the salas are tasty. ...</td>\n",
              "      <td>2020-12-03 02:47:14</td>\n",
              "      <td>Such a tasty burrito and the salas are tasty D...</td>\n",
              "      <td>[(tasty, a), (burrito, n), (salas, n), (tasty,...</td>\n",
              "      <td>tasty burrito salas tasty love guac vegetari...</td>\n",
              "    </tr>\n",
              "  </tbody>\n",
              "</table>\n",
              "</div>"
            ],
            "text/plain": [
              "              business_id  ...                                              Lemma\n",
              "0  Kv85DtmBK14Is2YRf7LDIQ  ...    Wow best sandwich long time unbelievably goo...\n",
              "1  6DwR5rF1s6fJn4f-Lvfbuw  ...    Everything food drink service exceptional Wo...\n",
              "2  BvpABPKyg0w54Xnrt_Ifrg  ...    Absolutely delicious coffee rapidly change i...\n",
              "3  FznRWr68zgIV-SkOGNveow  ...    owner staff incredibly sweet knowledgeable F...\n",
              "4  MRYWsqLbAkPzdKgHeSepZA  ...    tasty burrito salas tasty love guac vegetari...\n",
              "\n",
              "[5 rows x 9 columns]"
            ]
          },
          "metadata": {},
          "execution_count": 12
        }
      ]
    },
    {
      "cell_type": "code",
      "metadata": {
        "id": "Fj6XW-ehQxJB"
      },
      "source": [
        "from textblob import TextBlob\n",
        "# function to calculate subjectivity\n",
        "def getSubjectivity(review):\n",
        "    return TextBlob(review).sentiment.subjectivity\n",
        "    # function to calculate polarity\n",
        "def getPolarity(review):\n",
        "    return TextBlob(review).sentiment.polarity\n",
        "\n",
        "# function to analyze the reviews\n",
        "def analysis(score):\n",
        "    if score < 0:\n",
        "        return 'Negative'\n",
        "    elif score == 0:\n",
        "        return 'Neutral'\n",
        "    else:\n",
        "        return 'Positive'"
      ],
      "execution_count": null,
      "outputs": []
    },
    {
      "cell_type": "code",
      "metadata": {
        "id": "-RBIzVZKQ9L5"
      },
      "source": [
        "fin_data = pd.DataFrame(mydata[['text', 'Lemma']])"
      ],
      "execution_count": null,
      "outputs": []
    },
    {
      "cell_type": "code",
      "metadata": {
        "colab": {
          "base_uri": "https://localhost:8080/",
          "height": 206
        },
        "id": "yb3AE6exRBOv",
        "outputId": "d8a2aaa4-c35b-4f01-de48-aff2275ddbc2"
      },
      "source": [
        "# fin_data['Subjectivity'] = fin_data['Lemma'].apply(getSubjectivity) \n",
        "fin_data['Polarity'] = fin_data['Lemma'].apply(getPolarity) \n",
        "fin_data['Analysis'] = fin_data['Polarity'].apply(analysis)\n",
        "fin_data.head()"
      ],
      "execution_count": null,
      "outputs": [
        {
          "output_type": "execute_result",
          "data": {
            "text/html": [
              "<div>\n",
              "<style scoped>\n",
              "    .dataframe tbody tr th:only-of-type {\n",
              "        vertical-align: middle;\n",
              "    }\n",
              "\n",
              "    .dataframe tbody tr th {\n",
              "        vertical-align: top;\n",
              "    }\n",
              "\n",
              "    .dataframe thead th {\n",
              "        text-align: right;\n",
              "    }\n",
              "</style>\n",
              "<table border=\"1\" class=\"dataframe\">\n",
              "  <thead>\n",
              "    <tr style=\"text-align: right;\">\n",
              "      <th></th>\n",
              "      <th>text</th>\n",
              "      <th>Lemma</th>\n",
              "      <th>Polarity</th>\n",
              "      <th>Analysis</th>\n",
              "    </tr>\n",
              "  </thead>\n",
              "  <tbody>\n",
              "    <tr>\n",
              "      <th>0</th>\n",
              "      <td>Wow- the best sandwich I've had in a very long...</td>\n",
              "      <td>Wow best sandwich long time unbelievably goo...</td>\n",
              "      <td>0.443929</td>\n",
              "      <td>Positive</td>\n",
              "    </tr>\n",
              "    <tr>\n",
              "      <th>1</th>\n",
              "      <td>Everything from the food to the drinks to the ...</td>\n",
              "      <td>Everything food drink service exceptional Wo...</td>\n",
              "      <td>0.191667</td>\n",
              "      <td>Positive</td>\n",
              "    </tr>\n",
              "    <tr>\n",
              "      <th>2</th>\n",
              "      <td>Absolutely delicious coffee in rapidly changin...</td>\n",
              "      <td>Absolutely delicious coffee rapidly change i...</td>\n",
              "      <td>0.620833</td>\n",
              "      <td>Positive</td>\n",
              "    </tr>\n",
              "    <tr>\n",
              "      <th>3</th>\n",
              "      <td>The owner and staff are incredibly sweet and k...</td>\n",
              "      <td>owner staff incredibly sweet knowledgeable F...</td>\n",
              "      <td>0.370000</td>\n",
              "      <td>Positive</td>\n",
              "    </tr>\n",
              "    <tr>\n",
              "      <th>4</th>\n",
              "      <td>Such a tasty burrito and the salas are tasty. ...</td>\n",
              "      <td>tasty burrito salas tasty love guac vegetari...</td>\n",
              "      <td>0.500000</td>\n",
              "      <td>Positive</td>\n",
              "    </tr>\n",
              "  </tbody>\n",
              "</table>\n",
              "</div>"
            ],
            "text/plain": [
              "                                                text  ...  Analysis\n",
              "0  Wow- the best sandwich I've had in a very long...  ...  Positive\n",
              "1  Everything from the food to the drinks to the ...  ...  Positive\n",
              "2  Absolutely delicious coffee in rapidly changin...  ...  Positive\n",
              "3  The owner and staff are incredibly sweet and k...  ...  Positive\n",
              "4  Such a tasty burrito and the salas are tasty. ...  ...  Positive\n",
              "\n",
              "[5 rows x 4 columns]"
            ]
          },
          "metadata": {},
          "execution_count": 15
        }
      ]
    },
    {
      "cell_type": "code",
      "metadata": {
        "colab": {
          "base_uri": "https://localhost:8080/"
        },
        "id": "4lNWvLl0RErY",
        "outputId": "8a310c1c-ade7-493a-8144-4a0d8c0018f7"
      },
      "source": [
        "tb_counts = fin_data.Analysis.value_counts()\n",
        "\n",
        "tb_counts"
      ],
      "execution_count": null,
      "outputs": [
        {
          "output_type": "execute_result",
          "data": {
            "text/plain": [
              "Positive    175134\n",
              "Negative     20912\n",
              "Neutral       1903\n",
              "Name: Analysis, dtype: int64"
            ]
          },
          "metadata": {},
          "execution_count": 16
        }
      ]
    },
    {
      "cell_type": "code",
      "metadata": {
        "colab": {
          "base_uri": "https://localhost:8080/",
          "height": 567
        },
        "id": "2PdLViJTRPzh",
        "outputId": "166de844-d679-4176-bb2b-ca13c64322ce"
      },
      "source": [
        "import matplotlib.pyplot as plt\n",
        "%matplotlib inline\n",
        "\n",
        "tb_count= fin_data.Analysis.value_counts()\n",
        "plt.figure(figsize=(10, 7))\n",
        "plt.pie(tb_counts.values, labels = tb_counts.index, explode = (0, 0, 0.25), autopct='%1.1f%%', shadow=False)"
      ],
      "execution_count": null,
      "outputs": [
        {
          "output_type": "execute_result",
          "data": {
            "text/plain": [
              "([<matplotlib.patches.Wedge at 0x7faa32e94f90>,\n",
              "  <matplotlib.patches.Wedge at 0x7faa32e94450>,\n",
              "  <matplotlib.patches.Wedge at 0x7faa32e92a50>],\n",
              " [Text(-1.0286742102160296, 0.3896528830079767, 'Positive'),\n",
              "  Text(1.0164385794204134, -0.42053848131391275, 'Negative'),\n",
              "  Text(1.349384337092229, -0.04076654032617705, 'Neutral')],\n",
              " [Text(-0.561095023754198, 0.21253793618616906, '88.5%'),\n",
              "  Text(0.5544210433202255, -0.2293846261712251, '10.6%'),\n",
              "  Text(0.8496123603914033, -0.025667821686852214, '1.0%')])"
            ]
          },
          "metadata": {},
          "execution_count": 17
        },
        {
          "output_type": "display_data",
          "data": {
            "image/png": "[encoded data removed]",
            "text/plain": [
              "<Figure size 720x504 with 1 Axes>"
            ]
          },
          "metadata": {}
        }
      ]
    },
    {
      "cell_type": "markdown",
      "metadata": {
        "id": "_-JEm-ppRYM6"
      },
      "source": [
        "**Vader**"
      ]
    },
    {
      "cell_type": "code",
      "metadata": {
        "colab": {
          "base_uri": "https://localhost:8080/"
        },
        "id": "x02UGHcQfI7D",
        "outputId": "fd9d0f63-5ae2-4a23-8f00-b64d4b6df81e"
      },
      "source": [
        "pip install vaderSentiment"
      ],
      "execution_count": null,
      "outputs": [
        {
          "output_type": "stream",
          "name": "stdout",
          "text": [
            "Collecting vaderSentiment\n",
            "  Downloading vaderSentiment-3.3.2-py2.py3-none-any.whl (125 kB)\n",
            "\u001b[?25l\r\u001b[K     |██▋                             | 10 kB 24.9 MB/s eta 0:00:01\r\u001b[K     |█████▏                          | 20 kB 28.8 MB/s eta 0:00:01\r\u001b[K     |███████▉                        | 30 kB 30.0 MB/s eta 0:00:01\r\u001b[K     |██████████▍                     | 40 kB 32.6 MB/s eta 0:00:01\r\u001b[K     |█████████████                   | 51 kB 35.8 MB/s eta 0:00:01\r\u001b[K     |███████████████▋                | 61 kB 36.7 MB/s eta 0:00:01\r\u001b[K     |██████████████████▏             | 71 kB 29.3 MB/s eta 0:00:01\r\u001b[K     |████████████████████▉           | 81 kB 29.2 MB/s eta 0:00:01\r\u001b[K     |███████████████████████▍        | 92 kB 30.6 MB/s eta 0:00:01\r\u001b[K     |██████████████████████████      | 102 kB 32.2 MB/s eta 0:00:01\r\u001b[K     |████████████████████████████▋   | 112 kB 32.2 MB/s eta 0:00:01\r\u001b[K     |███████████████████████████████▏| 122 kB 32.2 MB/s eta 0:00:01\r\u001b[K     |████████████████████████████████| 125 kB 32.2 MB/s \n",
            "\u001b[?25hRequirement already satisfied: requests in /usr/local/lib/python3.7/dist-packages (from vaderSentiment) (2.23.0)\n",
            "Requirement already satisfied: chardet<4,>=3.0.2 in /usr/local/lib/python3.7/dist-packages (from requests->vaderSentiment) (3.0.4)\n",
            "Requirement already satisfied: certifi>=2017.4.17 in /usr/local/lib/python3.7/dist-packages (from requests->vaderSentiment) (2021.10.8)\n",
            "Requirement already satisfied: idna<3,>=2.5 in /usr/local/lib/python3.7/dist-packages (from requests->vaderSentiment) (2.10)\n",
            "Requirement already satisfied: urllib3!=1.25.0,!=1.25.1,<1.26,>=1.21.1 in /usr/local/lib/python3.7/dist-packages (from requests->vaderSentiment) (1.24.3)\n",
            "Installing collected packages: vaderSentiment\n",
            "Successfully installed vaderSentiment-3.3.2\n"
          ]
        }
      ]
    },
    {
      "cell_type": "code",
      "metadata": {
        "colab": {
          "base_uri": "https://localhost:8080/",
          "height": 206
        },
        "id": "n_NtE8blRaJY",
        "outputId": "25326ed0-d5d3-490a-c3cc-f22413942918"
      },
      "source": [
        "from vaderSentiment.vaderSentiment import SentimentIntensityAnalyzer\n",
        "analyzer = SentimentIntensityAnalyzer()\n",
        "# function to calculate vader sentiment\n",
        "def vadersentimentanalysis(review):\n",
        "    vs = analyzer.polarity_scores(review)\n",
        "    return vs['compound']\n",
        "fin_data['Vader Sentiment'] = fin_data['Lemma'].apply(vadersentimentanalysis)\n",
        "# function to analyse\n",
        "def vader_analysis(compound):\n",
        "    if compound >= 0.5:\n",
        "        return 'Positive'\n",
        "    elif compound <= -0.5 :\n",
        "        return 'Negative'\n",
        "    else:\n",
        "        return 'Neutral'\n",
        "fin_data['Vader Analysis'] = fin_data['Vader Sentiment'].apply(vader_analysis)\n",
        "fin_data.head()"
      ],
      "execution_count": null,
      "outputs": [
        {
          "output_type": "execute_result",
          "data": {
            "text/html": [
              "<div>\n",
              "<style scoped>\n",
              "    .dataframe tbody tr th:only-of-type {\n",
              "        vertical-align: middle;\n",
              "    }\n",
              "\n",
              "    .dataframe tbody tr th {\n",
              "        vertical-align: top;\n",
              "    }\n",
              "\n",
              "    .dataframe thead th {\n",
              "        text-align: right;\n",
              "    }\n",
              "</style>\n",
              "<table border=\"1\" class=\"dataframe\">\n",
              "  <thead>\n",
              "    <tr style=\"text-align: right;\">\n",
              "      <th></th>\n",
              "      <th>text</th>\n",
              "      <th>Lemma</th>\n",
              "      <th>Polarity</th>\n",
              "      <th>Analysis</th>\n",
              "      <th>Vader Sentiment</th>\n",
              "      <th>Vader Analysis</th>\n",
              "    </tr>\n",
              "  </thead>\n",
              "  <tbody>\n",
              "    <tr>\n",
              "      <th>0</th>\n",
              "      <td>Wow- the best sandwich I've had in a very long...</td>\n",
              "      <td>Wow best sandwich long time unbelievably goo...</td>\n",
              "      <td>0.443929</td>\n",
              "      <td>Positive</td>\n",
              "      <td>0.9780</td>\n",
              "      <td>Positive</td>\n",
              "    </tr>\n",
              "    <tr>\n",
              "      <th>1</th>\n",
              "      <td>Everything from the food to the drinks to the ...</td>\n",
              "      <td>Everything food drink service exceptional Wo...</td>\n",
              "      <td>0.191667</td>\n",
              "      <td>Positive</td>\n",
              "      <td>0.6590</td>\n",
              "      <td>Positive</td>\n",
              "    </tr>\n",
              "    <tr>\n",
              "      <th>2</th>\n",
              "      <td>Absolutely delicious coffee in rapidly changin...</td>\n",
              "      <td>Absolutely delicious coffee rapidly change i...</td>\n",
              "      <td>0.620833</td>\n",
              "      <td>Positive</td>\n",
              "      <td>0.9509</td>\n",
              "      <td>Positive</td>\n",
              "    </tr>\n",
              "    <tr>\n",
              "      <th>3</th>\n",
              "      <td>The owner and staff are incredibly sweet and k...</td>\n",
              "      <td>owner staff incredibly sweet knowledgeable F...</td>\n",
              "      <td>0.370000</td>\n",
              "      <td>Positive</td>\n",
              "      <td>0.9388</td>\n",
              "      <td>Positive</td>\n",
              "    </tr>\n",
              "    <tr>\n",
              "      <th>4</th>\n",
              "      <td>Such a tasty burrito and the salas are tasty. ...</td>\n",
              "      <td>tasty burrito salas tasty love guac vegetari...</td>\n",
              "      <td>0.500000</td>\n",
              "      <td>Positive</td>\n",
              "      <td>0.6369</td>\n",
              "      <td>Positive</td>\n",
              "    </tr>\n",
              "  </tbody>\n",
              "</table>\n",
              "</div>"
            ],
            "text/plain": [
              "                                                text  ... Vader Analysis\n",
              "0  Wow- the best sandwich I've had in a very long...  ...       Positive\n",
              "1  Everything from the food to the drinks to the ...  ...       Positive\n",
              "2  Absolutely delicious coffee in rapidly changin...  ...       Positive\n",
              "3  The owner and staff are incredibly sweet and k...  ...       Positive\n",
              "4  Such a tasty burrito and the salas are tasty. ...  ...       Positive\n",
              "\n",
              "[5 rows x 6 columns]"
            ]
          },
          "metadata": {},
          "execution_count": 20
        }
      ]
    },
    {
      "cell_type": "code",
      "metadata": {
        "colab": {
          "base_uri": "https://localhost:8080/"
        },
        "id": "t_O8lk38Rilx",
        "outputId": "809e372b-9453-4750-b608-be4b35ff73a1"
      },
      "source": [
        "vader_counts = fin_data['Vader Analysis'].value_counts()\n",
        "vader_counts"
      ],
      "execution_count": null,
      "outputs": [
        {
          "output_type": "execute_result",
          "data": {
            "text/plain": [
              "Positive    167680\n",
              "Neutral      21133\n",
              "Negative      9136\n",
              "Name: Vader Analysis, dtype: int64"
            ]
          },
          "metadata": {},
          "execution_count": 21
        }
      ]
    },
    {
      "cell_type": "code",
      "metadata": {
        "colab": {
          "base_uri": "https://localhost:8080/",
          "height": 567
        },
        "id": "xBwZPVayfaOi",
        "outputId": "c341193b-1a14-4ac3-9a3c-8b462333538f"
      },
      "source": [
        "vader_counts= fin_data['Vader Analysis'].value_counts()\n",
        "plt.figure(figsize=(10, 7))\n",
        "plt.pie(vader_counts.values, labels = vader_counts.index, explode = (0.1, 0, 0), autopct='%1.1f%%', shadow=False)\n",
        "# plt.legend()"
      ],
      "execution_count": null,
      "outputs": [
        {
          "output_type": "execute_result",
          "data": {
            "text/plain": [
              "([<matplotlib.patches.Wedge at 0x7faa33071290>,\n",
              "  <matplotlib.patches.Wedge at 0x7faa33071c90>,\n",
              "  <matplotlib.patches.Wedge at 0x7faa330779d0>],\n",
              " [Text(-1.0641772486705237, 0.5545509745839733, 'Positive'),\n",
              "  Text(0.891811062170359, -0.643951107919364, 'Neutral'),\n",
              "  Text(1.0884572844423201, -0.15893627636398952, 'Negative')],\n",
              " [Text(-0.6207700617244721, 0.32348806850731776, '84.7%'),\n",
              "  Text(0.48644239754746843, -0.3512460588651076, '10.7%'),\n",
              "  Text(0.5937039733321745, -0.08669251438035791, '4.6%')])"
            ]
          },
          "metadata": {},
          "execution_count": 22
        },
        {
          "output_type": "display_data",
          "data": {
            "image/png": "[encoded data removed]",
            "text/plain": [
              "<Figure size 720x504 with 1 Axes>"
            ]
          },
          "metadata": {}
        }
      ]
    },
    {
      "cell_type": "markdown",
      "metadata": {
        "id": "ls9kG7LzRzUx"
      },
      "source": [
        "**Senti Wordnet**"
      ]
    },
    {
      "cell_type": "code",
      "metadata": {
        "colab": {
          "base_uri": "https://localhost:8080/",
          "height": 241
        },
        "id": "_wAHBS-1RtuA",
        "outputId": "e03d1525-0804-45db-9931-f285df8295ea"
      },
      "source": [
        "nltk.download('sentiwordnet')\n",
        "from nltk.corpus import sentiwordnet as swn\n",
        "\n",
        "def sentiwordnetanalysis(pos_data):\n",
        "    sentiment = 0\n",
        "    tokens_count = 0\n",
        "    for word, pos in pos_data:\n",
        "        if not pos:\n",
        "            continue\n",
        "        lemma = wordnet_lemmatizer.lemmatize(word, pos=pos)\n",
        "        if not lemma:\n",
        "            continue\n",
        "        \n",
        "        synsets = wordnet.synsets(lemma, pos=pos)\n",
        "        if not synsets:\n",
        "            continue\n",
        "\n",
        "        # Take the first sense, the most common\n",
        "        synset = synsets[0]\n",
        "        swn_synset = swn.senti_synset(synset.name())\n",
        "        sentiment += swn_synset.pos_score() - swn_synset.neg_score()\n",
        "        tokens_count += 1\n",
        "        # print(swn_synset.pos_score(),swn_synset.neg_score(),swn_synset.obj_score())\n",
        "    if not tokens_count:\n",
        "        return 0\n",
        "    if sentiment>0:\n",
        "        return \"Positive\"\n",
        "    if sentiment==0:\n",
        "        return \"Neutral\"\n",
        "    else:\n",
        "        return \"Negative\"\n",
        "\n",
        "fin_data['SWN analysis'] = mydata['POS tagged'].apply(sentiwordnetanalysis)\n",
        "fin_data.head()"
      ],
      "execution_count": null,
      "outputs": [
        {
          "output_type": "stream",
          "name": "stdout",
          "text": [
            "[nltk_data] Downloading package sentiwordnet to /root/nltk_data...\n",
            "[nltk_data]   Package sentiwordnet is already up-to-date!\n"
          ]
        },
        {
          "output_type": "execute_result",
          "data": {
            "text/html": [
              "<div>\n",
              "<style scoped>\n",
              "    .dataframe tbody tr th:only-of-type {\n",
              "        vertical-align: middle;\n",
              "    }\n",
              "\n",
              "    .dataframe tbody tr th {\n",
              "        vertical-align: top;\n",
              "    }\n",
              "\n",
              "    .dataframe thead th {\n",
              "        text-align: right;\n",
              "    }\n",
              "</style>\n",
              "<table border=\"1\" class=\"dataframe\">\n",
              "  <thead>\n",
              "    <tr style=\"text-align: right;\">\n",
              "      <th></th>\n",
              "      <th>text</th>\n",
              "      <th>Lemma</th>\n",
              "      <th>Polarity</th>\n",
              "      <th>Analysis</th>\n",
              "      <th>Vader Sentiment</th>\n",
              "      <th>Vader Analysis</th>\n",
              "      <th>SWN analysis</th>\n",
              "    </tr>\n",
              "  </thead>\n",
              "  <tbody>\n",
              "    <tr>\n",
              "      <th>0</th>\n",
              "      <td>Wow- the best sandwich I've had in a very long...</td>\n",
              "      <td>Wow best sandwich long time unbelievably goo...</td>\n",
              "      <td>0.443929</td>\n",
              "      <td>Positive</td>\n",
              "      <td>0.9780</td>\n",
              "      <td>Positive</td>\n",
              "      <td>Positive</td>\n",
              "    </tr>\n",
              "    <tr>\n",
              "      <th>1</th>\n",
              "      <td>Everything from the food to the drinks to the ...</td>\n",
              "      <td>Everything food drink service exceptional Wo...</td>\n",
              "      <td>0.191667</td>\n",
              "      <td>Positive</td>\n",
              "      <td>0.6590</td>\n",
              "      <td>Positive</td>\n",
              "      <td>Positive</td>\n",
              "    </tr>\n",
              "    <tr>\n",
              "      <th>2</th>\n",
              "      <td>Absolutely delicious coffee in rapidly changin...</td>\n",
              "      <td>Absolutely delicious coffee rapidly change i...</td>\n",
              "      <td>0.620833</td>\n",
              "      <td>Positive</td>\n",
              "      <td>0.9509</td>\n",
              "      <td>Positive</td>\n",
              "      <td>Positive</td>\n",
              "    </tr>\n",
              "    <tr>\n",
              "      <th>3</th>\n",
              "      <td>The owner and staff are incredibly sweet and k...</td>\n",
              "      <td>owner staff incredibly sweet knowledgeable F...</td>\n",
              "      <td>0.370000</td>\n",
              "      <td>Positive</td>\n",
              "      <td>0.9388</td>\n",
              "      <td>Positive</td>\n",
              "      <td>Positive</td>\n",
              "    </tr>\n",
              "    <tr>\n",
              "      <th>4</th>\n",
              "      <td>Such a tasty burrito and the salas are tasty. ...</td>\n",
              "      <td>tasty burrito salas tasty love guac vegetari...</td>\n",
              "      <td>0.500000</td>\n",
              "      <td>Positive</td>\n",
              "      <td>0.6369</td>\n",
              "      <td>Positive</td>\n",
              "      <td>Positive</td>\n",
              "    </tr>\n",
              "  </tbody>\n",
              "</table>\n",
              "</div>"
            ],
            "text/plain": [
              "                                                text  ... SWN analysis\n",
              "0  Wow- the best sandwich I've had in a very long...  ...     Positive\n",
              "1  Everything from the food to the drinks to the ...  ...     Positive\n",
              "2  Absolutely delicious coffee in rapidly changin...  ...     Positive\n",
              "3  The owner and staff are incredibly sweet and k...  ...     Positive\n",
              "4  Such a tasty burrito and the salas are tasty. ...  ...     Positive\n",
              "\n",
              "[5 rows x 7 columns]"
            ]
          },
          "metadata": {},
          "execution_count": 23
        }
      ]
    },
    {
      "cell_type": "code",
      "metadata": {
        "colab": {
          "base_uri": "https://localhost:8080/"
        },
        "id": "NdNi9n0dRtxU",
        "outputId": "3ec8976e-8d88-4d02-fba1-28847c49cf97"
      },
      "source": [
        "swn_counts= fin_data['SWN analysis'].value_counts()\n",
        "swn_counts"
      ],
      "execution_count": null,
      "outputs": [
        {
          "output_type": "execute_result",
          "data": {
            "text/plain": [
              "Positive    161129\n",
              "Negative     31798\n",
              "Neutral       4965\n",
              "0               57\n",
              "Name: SWN analysis, dtype: int64"
            ]
          },
          "metadata": {},
          "execution_count": 24
        }
      ]
    },
    {
      "cell_type": "code",
      "metadata": {
        "colab": {
          "base_uri": "https://localhost:8080/",
          "height": 619
        },
        "id": "8Mpqf_4pgcLT",
        "outputId": "5f9bb943-762c-433d-a142-cffea45642ef"
      },
      "source": [
        "swn_counts= fin_data['SWN analysis'].value_counts()\n",
        "plt.figure(figsize=(10, 7))\n",
        "plt.pie(swn_counts.values, labels = swn_counts.index, autopct='%1.1f%%', shadow=False)"
      ],
      "execution_count": null,
      "outputs": [
        {
          "output_type": "execute_result",
          "data": {
            "text/plain": [
              "([<matplotlib.patches.Wedge at 0x7faa24b89ad0>,\n",
              "  <matplotlib.patches.Wedge at 0x7faa24b962d0>,\n",
              "  <matplotlib.patches.Wedge at 0x7faa24b96b50>,\n",
              "  <matplotlib.patches.Wedge at 0x7faa24ba13d0>],\n",
              " [Text(-0.9174719796670343, 0.6068320744043224, 'Positive'),\n",
              "  Text(0.8662444113133195, -0.6779532578787718, 'Negative'),\n",
              "  Text(1.0964282855978111, -0.08857208669239393, 'Neutral'),\n",
              "  Text(1.099999549933517, -0.0009950608325736544, '0')],\n",
              " [Text(-0.500439261636564, 0.33099931331144855, '81.4%'),\n",
              "  Text(0.47249695162544697, -0.3697926861156937, '16.1%'),\n",
              "  Text(0.5980517921442605, -0.04831204728676032, '2.5%'),\n",
              "  Text(0.599999754509191, -0.0005427604541310842, '0.0%')])"
            ]
          },
          "metadata": {},
          "execution_count": 28
        },
        {
          "output_type": "display_data",
          "data": {
            "image/png": "[encoded data removed]",
            "text/plain": [
              "<Figure size 720x504 with 1 Axes>"
            ]
          },
          "metadata": {}
        }
      ]
    },
    {
      "cell_type": "markdown",
      "metadata": {
        "id": "UzjL__cnSFqx"
      },
      "source": [
        "**Visual representation of TextBlob, VADER, SentiWordNet results**"
      ]
    },
    {
      "cell_type": "code",
      "metadata": {
        "colab": {
          "base_uri": "https://localhost:8080/",
          "height": 501
        },
        "id": "sm6tjxxaSKZ-",
        "outputId": "628ca875-ab0a-42fd-c425-882ce145e529"
      },
      "source": [
        "import matplotlib.pyplot as plt\n",
        "%matplotlib inline\n",
        "\n",
        "plt.figure(figsize=(15,7))\n",
        "plt.subplot(1,3,1)\n",
        "plt.title(\"TextBlob results\")\n",
        "plt.pie(tb_counts.values, labels = tb_counts.index, explode = (0, 0, 0.25), autopct='%1.1f%%', shadow=False)\n",
        "plt.subplot(1,3,2)\n",
        "plt.title(\"VADER results\")\n",
        "plt.pie(vader_counts.values, labels = vader_counts.index, explode = (0, 0, 0.25), autopct='%1.1f%%', shadow=False)\n",
        "plt.subplot(1,3,3)\n",
        "plt.title(\"SentiWordNet results\")\n",
        "plt.pie(swn_counts.values, labels = swn_counts.index, autopct='%1.1f%%', shadow=False)"
      ],
      "execution_count": null,
      "outputs": [
        {
          "output_type": "execute_result",
          "data": {
            "text/plain": [
              "([<matplotlib.patches.Wedge at 0x7faa2479fcd0>,\n",
              "  <matplotlib.patches.Wedge at 0x7faa247ab3d0>,\n",
              "  <matplotlib.patches.Wedge at 0x7faa247abc50>,\n",
              "  <matplotlib.patches.Wedge at 0x7faa247b34d0>],\n",
              " [Text(-0.9174719796670343, 0.6068320744043224, 'Positive'),\n",
              "  Text(0.8662444113133195, -0.6779532578787718, 'Negative'),\n",
              "  Text(1.0964282855978111, -0.08857208669239393, 'Neutral'),\n",
              "  Text(1.099999549933517, -0.0009950608325736544, '0')],\n",
              " [Text(-0.500439261636564, 0.33099931331144855, '81.4%'),\n",
              "  Text(0.47249695162544697, -0.3697926861156937, '16.1%'),\n",
              "  Text(0.5980517921442605, -0.04831204728676032, '2.5%'),\n",
              "  Text(0.599999754509191, -0.0005427604541310842, '0.0%')])"
            ]
          },
          "metadata": {},
          "execution_count": 32
        },
        {
          "output_type": "display_data",
          "data": {
            "image/png": "[encoded data removed]",
            "text/plain": [
              "<Figure size 1080x504 with 3 Axes>"
            ]
          },
          "metadata": {}
        }
      ]
    },
    {
      "cell_type": "code",
      "metadata": {
        "id": "sZb0A7QrguxK"
      },
      "source": [
        ""
      ],
      "execution_count": null,
      "outputs": []
    }
  ]
}